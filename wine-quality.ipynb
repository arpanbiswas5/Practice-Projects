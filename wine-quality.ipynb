{
 "cells": [
  {
   "cell_type": "code",
   "execution_count": 91,
   "id": "7016ad96",
   "metadata": {
    "id": "7016ad96"
   },
   "outputs": [],
   "source": [
    "import pandas as pd\n",
    "import numpy as np\n",
    "import seaborn as sns\n",
    "import matplotlib.pyplot as plt\n",
    "import warnings\n",
    "warnings.filterwarnings('ignore')"
   ]
  },
  {
   "cell_type": "code",
   "execution_count": 92,
   "id": "2082b27a",
   "metadata": {
    "colab": {
     "base_uri": "https://localhost:8080/",
     "height": 202
    },
    "id": "2082b27a",
    "outputId": "eee08831-e6dc-43d5-b23c-fb9d3be124b6"
   },
   "outputs": [
    {
     "data": {
      "text/html": [
       "<div>\n",
       "<style scoped>\n",
       "    .dataframe tbody tr th:only-of-type {\n",
       "        vertical-align: middle;\n",
       "    }\n",
       "\n",
       "    .dataframe tbody tr th {\n",
       "        vertical-align: top;\n",
       "    }\n",
       "\n",
       "    .dataframe thead th {\n",
       "        text-align: right;\n",
       "    }\n",
       "</style>\n",
       "<table border=\"1\" class=\"dataframe\">\n",
       "  <thead>\n",
       "    <tr style=\"text-align: right;\">\n",
       "      <th></th>\n",
       "      <th>fixed acidity</th>\n",
       "      <th>volatile acidity</th>\n",
       "      <th>citric acid</th>\n",
       "      <th>residual sugar</th>\n",
       "      <th>chlorides</th>\n",
       "      <th>free sulfur dioxide</th>\n",
       "      <th>total sulfur dioxide</th>\n",
       "      <th>density</th>\n",
       "      <th>pH</th>\n",
       "      <th>sulphates</th>\n",
       "      <th>alcohol</th>\n",
       "      <th>quality</th>\n",
       "    </tr>\n",
       "  </thead>\n",
       "  <tbody>\n",
       "    <tr>\n",
       "      <th>0</th>\n",
       "      <td>7.4</td>\n",
       "      <td>0.70</td>\n",
       "      <td>0.00</td>\n",
       "      <td>1.9</td>\n",
       "      <td>0.076</td>\n",
       "      <td>11.0</td>\n",
       "      <td>34.0</td>\n",
       "      <td>0.9978</td>\n",
       "      <td>3.51</td>\n",
       "      <td>0.56</td>\n",
       "      <td>9.4</td>\n",
       "      <td>5</td>\n",
       "    </tr>\n",
       "    <tr>\n",
       "      <th>1</th>\n",
       "      <td>7.8</td>\n",
       "      <td>0.88</td>\n",
       "      <td>0.00</td>\n",
       "      <td>2.6</td>\n",
       "      <td>0.098</td>\n",
       "      <td>25.0</td>\n",
       "      <td>67.0</td>\n",
       "      <td>0.9968</td>\n",
       "      <td>3.20</td>\n",
       "      <td>0.68</td>\n",
       "      <td>9.8</td>\n",
       "      <td>5</td>\n",
       "    </tr>\n",
       "    <tr>\n",
       "      <th>2</th>\n",
       "      <td>7.8</td>\n",
       "      <td>0.76</td>\n",
       "      <td>0.04</td>\n",
       "      <td>2.3</td>\n",
       "      <td>0.092</td>\n",
       "      <td>15.0</td>\n",
       "      <td>54.0</td>\n",
       "      <td>0.9970</td>\n",
       "      <td>3.26</td>\n",
       "      <td>0.65</td>\n",
       "      <td>9.8</td>\n",
       "      <td>5</td>\n",
       "    </tr>\n",
       "    <tr>\n",
       "      <th>3</th>\n",
       "      <td>11.2</td>\n",
       "      <td>0.28</td>\n",
       "      <td>0.56</td>\n",
       "      <td>1.9</td>\n",
       "      <td>0.075</td>\n",
       "      <td>17.0</td>\n",
       "      <td>60.0</td>\n",
       "      <td>0.9980</td>\n",
       "      <td>3.16</td>\n",
       "      <td>0.58</td>\n",
       "      <td>9.8</td>\n",
       "      <td>6</td>\n",
       "    </tr>\n",
       "    <tr>\n",
       "      <th>4</th>\n",
       "      <td>7.4</td>\n",
       "      <td>0.70</td>\n",
       "      <td>0.00</td>\n",
       "      <td>1.9</td>\n",
       "      <td>0.076</td>\n",
       "      <td>11.0</td>\n",
       "      <td>34.0</td>\n",
       "      <td>0.9978</td>\n",
       "      <td>3.51</td>\n",
       "      <td>0.56</td>\n",
       "      <td>9.4</td>\n",
       "      <td>5</td>\n",
       "    </tr>\n",
       "  </tbody>\n",
       "</table>\n",
       "</div>"
      ],
      "text/plain": [
       "   fixed acidity  volatile acidity  citric acid  residual sugar  chlorides  \\\n",
       "0            7.4              0.70         0.00             1.9      0.076   \n",
       "1            7.8              0.88         0.00             2.6      0.098   \n",
       "2            7.8              0.76         0.04             2.3      0.092   \n",
       "3           11.2              0.28         0.56             1.9      0.075   \n",
       "4            7.4              0.70         0.00             1.9      0.076   \n",
       "\n",
       "   free sulfur dioxide  total sulfur dioxide  density    pH  sulphates  \\\n",
       "0                 11.0                  34.0   0.9978  3.51       0.56   \n",
       "1                 25.0                  67.0   0.9968  3.20       0.68   \n",
       "2                 15.0                  54.0   0.9970  3.26       0.65   \n",
       "3                 17.0                  60.0   0.9980  3.16       0.58   \n",
       "4                 11.0                  34.0   0.9978  3.51       0.56   \n",
       "\n",
       "   alcohol  quality  \n",
       "0      9.4        5  \n",
       "1      9.8        5  \n",
       "2      9.8        5  \n",
       "3      9.8        6  \n",
       "4      9.4        5  "
      ]
     },
     "execution_count": 92,
     "metadata": {},
     "output_type": "execute_result"
    }
   ],
   "source": [
    "df=pd.read_csv('https://raw.githubusercontent.com/dsrscientist/DSData/master/winequality-red.csv')\n",
    "df.head()"
   ]
  },
  {
   "cell_type": "markdown",
   "id": "086fd799",
   "metadata": {},
   "source": [
    "reading the dataset in the dataframe.\n",
    "my target column here is quality,\n",
    "all columns are continuous datatype."
   ]
  },
  {
   "cell_type": "code",
   "execution_count": 93,
   "id": "614438ee",
   "metadata": {
    "colab": {
     "base_uri": "https://localhost:8080/"
    },
    "id": "614438ee",
    "outputId": "0a627b55-98ad-4d63-db9e-51493eae9929"
   },
   "outputs": [
    {
     "data": {
      "text/plain": [
       "(1599, 12)"
      ]
     },
     "execution_count": 93,
     "metadata": {},
     "output_type": "execute_result"
    }
   ],
   "source": [
    "df.shape"
   ]
  },
  {
   "cell_type": "markdown",
   "id": "a0d4a46e",
   "metadata": {},
   "source": [
    "the shape of the dataset is 1599 rows and 12 columns"
   ]
  },
  {
   "cell_type": "code",
   "execution_count": 94,
   "id": "62d2d736",
   "metadata": {
    "colab": {
     "base_uri": "https://localhost:8080/"
    },
    "id": "62d2d736",
    "outputId": "1e639335-3af4-4ce9-cee5-47b535be96fc"
   },
   "outputs": [
    {
     "data": {
      "text/plain": [
       "fixed acidity           float64\n",
       "volatile acidity        float64\n",
       "citric acid             float64\n",
       "residual sugar          float64\n",
       "chlorides               float64\n",
       "free sulfur dioxide     float64\n",
       "total sulfur dioxide    float64\n",
       "density                 float64\n",
       "pH                      float64\n",
       "sulphates               float64\n",
       "alcohol                 float64\n",
       "quality                   int64\n",
       "dtype: object"
      ]
     },
     "execution_count": 94,
     "metadata": {},
     "output_type": "execute_result"
    }
   ],
   "source": [
    "df.dtypes"
   ]
  },
  {
   "cell_type": "markdown",
   "id": "cff54b3e",
   "metadata": {},
   "source": [
    "as we can see all the columns are float datatype except the quality, it is integer datatype."
   ]
  },
  {
   "cell_type": "code",
   "execution_count": 95,
   "id": "cee2ee20",
   "metadata": {
    "colab": {
     "base_uri": "https://localhost:8080/"
    },
    "id": "cee2ee20",
    "outputId": "83f90f35-595f-4efd-a51d-f5f1db0255e4"
   },
   "outputs": [
    {
     "data": {
      "text/plain": [
       "Index(['fixed acidity', 'volatile acidity', 'citric acid', 'residual sugar',\n",
       "       'chlorides', 'free sulfur dioxide', 'total sulfur dioxide', 'density',\n",
       "       'pH', 'sulphates', 'alcohol', 'quality'],\n",
       "      dtype='object')"
      ]
     },
     "execution_count": 95,
     "metadata": {},
     "output_type": "execute_result"
    }
   ],
   "source": [
    "df.columns"
   ]
  },
  {
   "cell_type": "markdown",
   "id": "4737119f",
   "metadata": {},
   "source": [
    "we can see all the column names in the dataset."
   ]
  },
  {
   "cell_type": "code",
   "execution_count": 96,
   "id": "cd456fac",
   "metadata": {
    "colab": {
     "base_uri": "https://localhost:8080/"
    },
    "id": "cd456fac",
    "outputId": "3ea36c4b-99db-4ebc-a430-d80ddd68707e"
   },
   "outputs": [
    {
     "data": {
      "text/plain": [
       "fixed acidity           0\n",
       "volatile acidity        0\n",
       "citric acid             0\n",
       "residual sugar          0\n",
       "chlorides               0\n",
       "free sulfur dioxide     0\n",
       "total sulfur dioxide    0\n",
       "density                 0\n",
       "pH                      0\n",
       "sulphates               0\n",
       "alcohol                 0\n",
       "quality                 0\n",
       "dtype: int64"
      ]
     },
     "execution_count": 96,
     "metadata": {},
     "output_type": "execute_result"
    }
   ],
   "source": [
    "df.isnull().sum()"
   ]
  },
  {
   "cell_type": "markdown",
   "id": "98dbfe34",
   "metadata": {},
   "source": [
    "there are no null values present in the dataset"
   ]
  },
  {
   "cell_type": "code",
   "execution_count": 97,
   "id": "99a1621a",
   "metadata": {
    "colab": {
     "base_uri": "https://localhost:8080/"
    },
    "id": "99a1621a",
    "outputId": "fe8602c0-d43f-482d-ed6e-2201a3b8ab63"
   },
   "outputs": [
    {
     "data": {
      "text/plain": [
       "array([5, 6, 7, 4, 8, 3], dtype=int64)"
      ]
     },
     "execution_count": 97,
     "metadata": {},
     "output_type": "execute_result"
    }
   ],
   "source": [
    "df.quality.unique()"
   ]
  },
  {
   "cell_type": "markdown",
   "id": "ce680684",
   "metadata": {},
   "source": [
    "3,4,5,6,7,8 are the unique values which are present in the quality column"
   ]
  },
  {
   "cell_type": "code",
   "execution_count": 98,
   "id": "d562c4d7",
   "metadata": {
    "colab": {
     "base_uri": "https://localhost:8080/"
    },
    "id": "d562c4d7",
    "outputId": "029c9ae1-9e8f-438c-e780-b7016b71dec1"
   },
   "outputs": [
    {
     "data": {
      "text/plain": [
       "5    681\n",
       "6    638\n",
       "7    199\n",
       "4     53\n",
       "8     18\n",
       "3     10\n",
       "Name: quality, dtype: int64"
      ]
     },
     "execution_count": 98,
     "metadata": {},
     "output_type": "execute_result"
    }
   ],
   "source": [
    "df.quality.value_counts()"
   ]
  },
  {
   "cell_type": "markdown",
   "id": "1b917603",
   "metadata": {},
   "source": [
    "it shows the total counts of every unique value in the quality column."
   ]
  },
  {
   "cell_type": "code",
   "execution_count": 99,
   "id": "b73d9732",
   "metadata": {
    "colab": {
     "base_uri": "https://localhost:8080/",
     "height": 295
    },
    "id": "b73d9732",
    "outputId": "e98fb2ce-86f9-4f91-f47e-321beddf5964"
   },
   "outputs": [
    {
     "data": {
      "text/html": [
       "<div>\n",
       "<style scoped>\n",
       "    .dataframe tbody tr th:only-of-type {\n",
       "        vertical-align: middle;\n",
       "    }\n",
       "\n",
       "    .dataframe tbody tr th {\n",
       "        vertical-align: top;\n",
       "    }\n",
       "\n",
       "    .dataframe thead th {\n",
       "        text-align: right;\n",
       "    }\n",
       "</style>\n",
       "<table border=\"1\" class=\"dataframe\">\n",
       "  <thead>\n",
       "    <tr style=\"text-align: right;\">\n",
       "      <th></th>\n",
       "      <th>fixed acidity</th>\n",
       "      <th>volatile acidity</th>\n",
       "      <th>citric acid</th>\n",
       "      <th>residual sugar</th>\n",
       "      <th>chlorides</th>\n",
       "      <th>free sulfur dioxide</th>\n",
       "      <th>total sulfur dioxide</th>\n",
       "      <th>density</th>\n",
       "      <th>pH</th>\n",
       "      <th>sulphates</th>\n",
       "      <th>alcohol</th>\n",
       "      <th>quality</th>\n",
       "    </tr>\n",
       "  </thead>\n",
       "  <tbody>\n",
       "    <tr>\n",
       "      <th>count</th>\n",
       "      <td>1599.000000</td>\n",
       "      <td>1599.000000</td>\n",
       "      <td>1599.000000</td>\n",
       "      <td>1599.000000</td>\n",
       "      <td>1599.000000</td>\n",
       "      <td>1599.000000</td>\n",
       "      <td>1599.000000</td>\n",
       "      <td>1599.000000</td>\n",
       "      <td>1599.000000</td>\n",
       "      <td>1599.000000</td>\n",
       "      <td>1599.000000</td>\n",
       "      <td>1599.000000</td>\n",
       "    </tr>\n",
       "    <tr>\n",
       "      <th>mean</th>\n",
       "      <td>8.319637</td>\n",
       "      <td>0.527821</td>\n",
       "      <td>0.270976</td>\n",
       "      <td>2.538806</td>\n",
       "      <td>0.087467</td>\n",
       "      <td>15.874922</td>\n",
       "      <td>46.467792</td>\n",
       "      <td>0.996747</td>\n",
       "      <td>3.311113</td>\n",
       "      <td>0.658149</td>\n",
       "      <td>10.422983</td>\n",
       "      <td>5.636023</td>\n",
       "    </tr>\n",
       "    <tr>\n",
       "      <th>std</th>\n",
       "      <td>1.741096</td>\n",
       "      <td>0.179060</td>\n",
       "      <td>0.194801</td>\n",
       "      <td>1.409928</td>\n",
       "      <td>0.047065</td>\n",
       "      <td>10.460157</td>\n",
       "      <td>32.895324</td>\n",
       "      <td>0.001887</td>\n",
       "      <td>0.154386</td>\n",
       "      <td>0.169507</td>\n",
       "      <td>1.065668</td>\n",
       "      <td>0.807569</td>\n",
       "    </tr>\n",
       "    <tr>\n",
       "      <th>min</th>\n",
       "      <td>4.600000</td>\n",
       "      <td>0.120000</td>\n",
       "      <td>0.000000</td>\n",
       "      <td>0.900000</td>\n",
       "      <td>0.012000</td>\n",
       "      <td>1.000000</td>\n",
       "      <td>6.000000</td>\n",
       "      <td>0.990070</td>\n",
       "      <td>2.740000</td>\n",
       "      <td>0.330000</td>\n",
       "      <td>8.400000</td>\n",
       "      <td>3.000000</td>\n",
       "    </tr>\n",
       "    <tr>\n",
       "      <th>25%</th>\n",
       "      <td>7.100000</td>\n",
       "      <td>0.390000</td>\n",
       "      <td>0.090000</td>\n",
       "      <td>1.900000</td>\n",
       "      <td>0.070000</td>\n",
       "      <td>7.000000</td>\n",
       "      <td>22.000000</td>\n",
       "      <td>0.995600</td>\n",
       "      <td>3.210000</td>\n",
       "      <td>0.550000</td>\n",
       "      <td>9.500000</td>\n",
       "      <td>5.000000</td>\n",
       "    </tr>\n",
       "    <tr>\n",
       "      <th>50%</th>\n",
       "      <td>7.900000</td>\n",
       "      <td>0.520000</td>\n",
       "      <td>0.260000</td>\n",
       "      <td>2.200000</td>\n",
       "      <td>0.079000</td>\n",
       "      <td>14.000000</td>\n",
       "      <td>38.000000</td>\n",
       "      <td>0.996750</td>\n",
       "      <td>3.310000</td>\n",
       "      <td>0.620000</td>\n",
       "      <td>10.200000</td>\n",
       "      <td>6.000000</td>\n",
       "    </tr>\n",
       "    <tr>\n",
       "      <th>75%</th>\n",
       "      <td>9.200000</td>\n",
       "      <td>0.640000</td>\n",
       "      <td>0.420000</td>\n",
       "      <td>2.600000</td>\n",
       "      <td>0.090000</td>\n",
       "      <td>21.000000</td>\n",
       "      <td>62.000000</td>\n",
       "      <td>0.997835</td>\n",
       "      <td>3.400000</td>\n",
       "      <td>0.730000</td>\n",
       "      <td>11.100000</td>\n",
       "      <td>6.000000</td>\n",
       "    </tr>\n",
       "    <tr>\n",
       "      <th>max</th>\n",
       "      <td>15.900000</td>\n",
       "      <td>1.580000</td>\n",
       "      <td>1.000000</td>\n",
       "      <td>15.500000</td>\n",
       "      <td>0.611000</td>\n",
       "      <td>72.000000</td>\n",
       "      <td>289.000000</td>\n",
       "      <td>1.003690</td>\n",
       "      <td>4.010000</td>\n",
       "      <td>2.000000</td>\n",
       "      <td>14.900000</td>\n",
       "      <td>8.000000</td>\n",
       "    </tr>\n",
       "  </tbody>\n",
       "</table>\n",
       "</div>"
      ],
      "text/plain": [
       "       fixed acidity  volatile acidity  citric acid  residual sugar  \\\n",
       "count    1599.000000       1599.000000  1599.000000     1599.000000   \n",
       "mean        8.319637          0.527821     0.270976        2.538806   \n",
       "std         1.741096          0.179060     0.194801        1.409928   \n",
       "min         4.600000          0.120000     0.000000        0.900000   \n",
       "25%         7.100000          0.390000     0.090000        1.900000   \n",
       "50%         7.900000          0.520000     0.260000        2.200000   \n",
       "75%         9.200000          0.640000     0.420000        2.600000   \n",
       "max        15.900000          1.580000     1.000000       15.500000   \n",
       "\n",
       "         chlorides  free sulfur dioxide  total sulfur dioxide      density  \\\n",
       "count  1599.000000          1599.000000           1599.000000  1599.000000   \n",
       "mean      0.087467            15.874922             46.467792     0.996747   \n",
       "std       0.047065            10.460157             32.895324     0.001887   \n",
       "min       0.012000             1.000000              6.000000     0.990070   \n",
       "25%       0.070000             7.000000             22.000000     0.995600   \n",
       "50%       0.079000            14.000000             38.000000     0.996750   \n",
       "75%       0.090000            21.000000             62.000000     0.997835   \n",
       "max       0.611000            72.000000            289.000000     1.003690   \n",
       "\n",
       "                pH    sulphates      alcohol      quality  \n",
       "count  1599.000000  1599.000000  1599.000000  1599.000000  \n",
       "mean      3.311113     0.658149    10.422983     5.636023  \n",
       "std       0.154386     0.169507     1.065668     0.807569  \n",
       "min       2.740000     0.330000     8.400000     3.000000  \n",
       "25%       3.210000     0.550000     9.500000     5.000000  \n",
       "50%       3.310000     0.620000    10.200000     6.000000  \n",
       "75%       3.400000     0.730000    11.100000     6.000000  \n",
       "max       4.010000     2.000000    14.900000     8.000000  "
      ]
     },
     "execution_count": 99,
     "metadata": {},
     "output_type": "execute_result"
    }
   ],
   "source": [
    "df.describe()"
   ]
  },
  {
   "cell_type": "markdown",
   "id": "1b20be83",
   "metadata": {
    "id": "1b20be83"
   },
   "source": [
    "the mean is more than median in almost every column, hence the graph is skewed.\n",
    "\n",
    "there is a large difference in 75 percentile and max in residual sugar, free sulphur dioxide, total sulphur\n",
    "dioxide hence there are outliers present."
   ]
  },
  {
   "cell_type": "code",
   "execution_count": 100,
   "id": "f9c2a944",
   "metadata": {
    "colab": {
     "base_uri": "https://localhost:8080/",
     "height": 418
    },
    "id": "f9c2a944",
    "outputId": "4d9497c9-8aec-4db5-d42c-809c55ea01ba"
   },
   "outputs": [
    {
     "data": {
      "text/html": [
       "<div>\n",
       "<style scoped>\n",
       "    .dataframe tbody tr th:only-of-type {\n",
       "        vertical-align: middle;\n",
       "    }\n",
       "\n",
       "    .dataframe tbody tr th {\n",
       "        vertical-align: top;\n",
       "    }\n",
       "\n",
       "    .dataframe thead th {\n",
       "        text-align: right;\n",
       "    }\n",
       "</style>\n",
       "<table border=\"1\" class=\"dataframe\">\n",
       "  <thead>\n",
       "    <tr style=\"text-align: right;\">\n",
       "      <th></th>\n",
       "      <th>fixed acidity</th>\n",
       "      <th>volatile acidity</th>\n",
       "      <th>citric acid</th>\n",
       "      <th>residual sugar</th>\n",
       "      <th>chlorides</th>\n",
       "      <th>free sulfur dioxide</th>\n",
       "      <th>total sulfur dioxide</th>\n",
       "      <th>density</th>\n",
       "      <th>pH</th>\n",
       "      <th>sulphates</th>\n",
       "      <th>alcohol</th>\n",
       "      <th>quality</th>\n",
       "    </tr>\n",
       "  </thead>\n",
       "  <tbody>\n",
       "    <tr>\n",
       "      <th>fixed acidity</th>\n",
       "      <td>1.000000</td>\n",
       "      <td>-0.256131</td>\n",
       "      <td>0.671703</td>\n",
       "      <td>0.114777</td>\n",
       "      <td>0.093705</td>\n",
       "      <td>-0.153794</td>\n",
       "      <td>-0.113181</td>\n",
       "      <td>0.668047</td>\n",
       "      <td>-0.682978</td>\n",
       "      <td>0.183006</td>\n",
       "      <td>-0.061668</td>\n",
       "      <td>0.124052</td>\n",
       "    </tr>\n",
       "    <tr>\n",
       "      <th>volatile acidity</th>\n",
       "      <td>-0.256131</td>\n",
       "      <td>1.000000</td>\n",
       "      <td>-0.552496</td>\n",
       "      <td>0.001918</td>\n",
       "      <td>0.061298</td>\n",
       "      <td>-0.010504</td>\n",
       "      <td>0.076470</td>\n",
       "      <td>0.022026</td>\n",
       "      <td>0.234937</td>\n",
       "      <td>-0.260987</td>\n",
       "      <td>-0.202288</td>\n",
       "      <td>-0.390558</td>\n",
       "    </tr>\n",
       "    <tr>\n",
       "      <th>citric acid</th>\n",
       "      <td>0.671703</td>\n",
       "      <td>-0.552496</td>\n",
       "      <td>1.000000</td>\n",
       "      <td>0.143577</td>\n",
       "      <td>0.203823</td>\n",
       "      <td>-0.060978</td>\n",
       "      <td>0.035533</td>\n",
       "      <td>0.364947</td>\n",
       "      <td>-0.541904</td>\n",
       "      <td>0.312770</td>\n",
       "      <td>0.109903</td>\n",
       "      <td>0.226373</td>\n",
       "    </tr>\n",
       "    <tr>\n",
       "      <th>residual sugar</th>\n",
       "      <td>0.114777</td>\n",
       "      <td>0.001918</td>\n",
       "      <td>0.143577</td>\n",
       "      <td>1.000000</td>\n",
       "      <td>0.055610</td>\n",
       "      <td>0.187049</td>\n",
       "      <td>0.203028</td>\n",
       "      <td>0.355283</td>\n",
       "      <td>-0.085652</td>\n",
       "      <td>0.005527</td>\n",
       "      <td>0.042075</td>\n",
       "      <td>0.013732</td>\n",
       "    </tr>\n",
       "    <tr>\n",
       "      <th>chlorides</th>\n",
       "      <td>0.093705</td>\n",
       "      <td>0.061298</td>\n",
       "      <td>0.203823</td>\n",
       "      <td>0.055610</td>\n",
       "      <td>1.000000</td>\n",
       "      <td>0.005562</td>\n",
       "      <td>0.047400</td>\n",
       "      <td>0.200632</td>\n",
       "      <td>-0.265026</td>\n",
       "      <td>0.371260</td>\n",
       "      <td>-0.221141</td>\n",
       "      <td>-0.128907</td>\n",
       "    </tr>\n",
       "    <tr>\n",
       "      <th>free sulfur dioxide</th>\n",
       "      <td>-0.153794</td>\n",
       "      <td>-0.010504</td>\n",
       "      <td>-0.060978</td>\n",
       "      <td>0.187049</td>\n",
       "      <td>0.005562</td>\n",
       "      <td>1.000000</td>\n",
       "      <td>0.667666</td>\n",
       "      <td>-0.021946</td>\n",
       "      <td>0.070377</td>\n",
       "      <td>0.051658</td>\n",
       "      <td>-0.069408</td>\n",
       "      <td>-0.050656</td>\n",
       "    </tr>\n",
       "    <tr>\n",
       "      <th>total sulfur dioxide</th>\n",
       "      <td>-0.113181</td>\n",
       "      <td>0.076470</td>\n",
       "      <td>0.035533</td>\n",
       "      <td>0.203028</td>\n",
       "      <td>0.047400</td>\n",
       "      <td>0.667666</td>\n",
       "      <td>1.000000</td>\n",
       "      <td>0.071269</td>\n",
       "      <td>-0.066495</td>\n",
       "      <td>0.042947</td>\n",
       "      <td>-0.205654</td>\n",
       "      <td>-0.185100</td>\n",
       "    </tr>\n",
       "    <tr>\n",
       "      <th>density</th>\n",
       "      <td>0.668047</td>\n",
       "      <td>0.022026</td>\n",
       "      <td>0.364947</td>\n",
       "      <td>0.355283</td>\n",
       "      <td>0.200632</td>\n",
       "      <td>-0.021946</td>\n",
       "      <td>0.071269</td>\n",
       "      <td>1.000000</td>\n",
       "      <td>-0.341699</td>\n",
       "      <td>0.148506</td>\n",
       "      <td>-0.496180</td>\n",
       "      <td>-0.174919</td>\n",
       "    </tr>\n",
       "    <tr>\n",
       "      <th>pH</th>\n",
       "      <td>-0.682978</td>\n",
       "      <td>0.234937</td>\n",
       "      <td>-0.541904</td>\n",
       "      <td>-0.085652</td>\n",
       "      <td>-0.265026</td>\n",
       "      <td>0.070377</td>\n",
       "      <td>-0.066495</td>\n",
       "      <td>-0.341699</td>\n",
       "      <td>1.000000</td>\n",
       "      <td>-0.196648</td>\n",
       "      <td>0.205633</td>\n",
       "      <td>-0.057731</td>\n",
       "    </tr>\n",
       "    <tr>\n",
       "      <th>sulphates</th>\n",
       "      <td>0.183006</td>\n",
       "      <td>-0.260987</td>\n",
       "      <td>0.312770</td>\n",
       "      <td>0.005527</td>\n",
       "      <td>0.371260</td>\n",
       "      <td>0.051658</td>\n",
       "      <td>0.042947</td>\n",
       "      <td>0.148506</td>\n",
       "      <td>-0.196648</td>\n",
       "      <td>1.000000</td>\n",
       "      <td>0.093595</td>\n",
       "      <td>0.251397</td>\n",
       "    </tr>\n",
       "    <tr>\n",
       "      <th>alcohol</th>\n",
       "      <td>-0.061668</td>\n",
       "      <td>-0.202288</td>\n",
       "      <td>0.109903</td>\n",
       "      <td>0.042075</td>\n",
       "      <td>-0.221141</td>\n",
       "      <td>-0.069408</td>\n",
       "      <td>-0.205654</td>\n",
       "      <td>-0.496180</td>\n",
       "      <td>0.205633</td>\n",
       "      <td>0.093595</td>\n",
       "      <td>1.000000</td>\n",
       "      <td>0.476166</td>\n",
       "    </tr>\n",
       "    <tr>\n",
       "      <th>quality</th>\n",
       "      <td>0.124052</td>\n",
       "      <td>-0.390558</td>\n",
       "      <td>0.226373</td>\n",
       "      <td>0.013732</td>\n",
       "      <td>-0.128907</td>\n",
       "      <td>-0.050656</td>\n",
       "      <td>-0.185100</td>\n",
       "      <td>-0.174919</td>\n",
       "      <td>-0.057731</td>\n",
       "      <td>0.251397</td>\n",
       "      <td>0.476166</td>\n",
       "      <td>1.000000</td>\n",
       "    </tr>\n",
       "  </tbody>\n",
       "</table>\n",
       "</div>"
      ],
      "text/plain": [
       "                      fixed acidity  volatile acidity  citric acid  \\\n",
       "fixed acidity              1.000000         -0.256131     0.671703   \n",
       "volatile acidity          -0.256131          1.000000    -0.552496   \n",
       "citric acid                0.671703         -0.552496     1.000000   \n",
       "residual sugar             0.114777          0.001918     0.143577   \n",
       "chlorides                  0.093705          0.061298     0.203823   \n",
       "free sulfur dioxide       -0.153794         -0.010504    -0.060978   \n",
       "total sulfur dioxide      -0.113181          0.076470     0.035533   \n",
       "density                    0.668047          0.022026     0.364947   \n",
       "pH                        -0.682978          0.234937    -0.541904   \n",
       "sulphates                  0.183006         -0.260987     0.312770   \n",
       "alcohol                   -0.061668         -0.202288     0.109903   \n",
       "quality                    0.124052         -0.390558     0.226373   \n",
       "\n",
       "                      residual sugar  chlorides  free sulfur dioxide  \\\n",
       "fixed acidity               0.114777   0.093705            -0.153794   \n",
       "volatile acidity            0.001918   0.061298            -0.010504   \n",
       "citric acid                 0.143577   0.203823            -0.060978   \n",
       "residual sugar              1.000000   0.055610             0.187049   \n",
       "chlorides                   0.055610   1.000000             0.005562   \n",
       "free sulfur dioxide         0.187049   0.005562             1.000000   \n",
       "total sulfur dioxide        0.203028   0.047400             0.667666   \n",
       "density                     0.355283   0.200632            -0.021946   \n",
       "pH                         -0.085652  -0.265026             0.070377   \n",
       "sulphates                   0.005527   0.371260             0.051658   \n",
       "alcohol                     0.042075  -0.221141            -0.069408   \n",
       "quality                     0.013732  -0.128907            -0.050656   \n",
       "\n",
       "                      total sulfur dioxide   density        pH  sulphates  \\\n",
       "fixed acidity                    -0.113181  0.668047 -0.682978   0.183006   \n",
       "volatile acidity                  0.076470  0.022026  0.234937  -0.260987   \n",
       "citric acid                       0.035533  0.364947 -0.541904   0.312770   \n",
       "residual sugar                    0.203028  0.355283 -0.085652   0.005527   \n",
       "chlorides                         0.047400  0.200632 -0.265026   0.371260   \n",
       "free sulfur dioxide               0.667666 -0.021946  0.070377   0.051658   \n",
       "total sulfur dioxide              1.000000  0.071269 -0.066495   0.042947   \n",
       "density                           0.071269  1.000000 -0.341699   0.148506   \n",
       "pH                               -0.066495 -0.341699  1.000000  -0.196648   \n",
       "sulphates                         0.042947  0.148506 -0.196648   1.000000   \n",
       "alcohol                          -0.205654 -0.496180  0.205633   0.093595   \n",
       "quality                          -0.185100 -0.174919 -0.057731   0.251397   \n",
       "\n",
       "                       alcohol   quality  \n",
       "fixed acidity        -0.061668  0.124052  \n",
       "volatile acidity     -0.202288 -0.390558  \n",
       "citric acid           0.109903  0.226373  \n",
       "residual sugar        0.042075  0.013732  \n",
       "chlorides            -0.221141 -0.128907  \n",
       "free sulfur dioxide  -0.069408 -0.050656  \n",
       "total sulfur dioxide -0.205654 -0.185100  \n",
       "density              -0.496180 -0.174919  \n",
       "pH                    0.205633 -0.057731  \n",
       "sulphates             0.093595  0.251397  \n",
       "alcohol               1.000000  0.476166  \n",
       "quality               0.476166  1.000000  "
      ]
     },
     "execution_count": 100,
     "metadata": {},
     "output_type": "execute_result"
    }
   ],
   "source": [
    "df_correlation=df.corr()\n",
    "df_correlation"
   ]
  },
  {
   "cell_type": "code",
   "execution_count": 101,
   "id": "bd4303d6",
   "metadata": {
    "id": "bd4303d6",
    "outputId": "c42962ea-a6ff-4973-9529-e29c2e83c826"
   },
   "outputs": [
    {
     "data": {
      "text/plain": [
       "<AxesSubplot:>"
      ]
     },
     "execution_count": 101,
     "metadata": {},
     "output_type": "execute_result"
    },
    {
     "data": {
      "image/png": "[encoded data removed]",
      "text/plain": [
       "<Figure size 1440x1296 with 2 Axes>"
      ]
     },
     "metadata": {
      "needs_background": "light"
     },
     "output_type": "display_data"
    }
   ],
   "source": [
    "plt.figure(figsize=(20,18))\n",
    "sns.heatmap(df_correlation,cmap='Blues',annot=True)\n"
   ]
  },
  {
   "cell_type": "markdown",
   "id": "644d3caa",
   "metadata": {},
   "source": [
    "we can see the most positive correlation that we can see with the target column quality is alcohot, least correlation is volatile acidity.  free sulphur dioxide and total sulphur dioxide are highly correlated with each other."
   ]
  },
  {
   "cell_type": "code",
   "execution_count": 102,
   "id": "e2689692",
   "metadata": {
    "id": "e2689692",
    "outputId": "46cf309b-1849-4534-fa9f-ac58424f9a24"
   },
   "outputs": [
    {
     "data": {
      "text/plain": [
       "<AxesSubplot:>"
      ]
     },
     "execution_count": 102,
     "metadata": {},
     "output_type": "execute_result"
    },
    {
     "data": {
      "image/png": "[encoded data removed]",
      "text/plain": [
       "<Figure size 432x288 with 1 Axes>"
      ]
     },
     "metadata": {
      "needs_background": "light"
     },
     "output_type": "display_data"
    }
   ],
   "source": [
    "df['fixed acidity'].plot.box()"
   ]
  },
  {
   "cell_type": "markdown",
   "id": "2227acc5",
   "metadata": {},
   "source": [
    "outliers are present"
   ]
  },
  {
   "cell_type": "code",
   "execution_count": 103,
   "id": "8e537144",
   "metadata": {
    "id": "8e537144",
    "outputId": "92e6498d-97e2-4a23-cbb6-d3143079cbb4"
   },
   "outputs": [
    {
     "data": {
      "text/plain": [
       "<AxesSubplot:>"
      ]
     },
     "execution_count": 103,
     "metadata": {},
     "output_type": "execute_result"
    },
    {
     "data": {
      "image/png": "[encoded data removed]",
      "text/plain": [
       "<Figure size 432x288 with 1 Axes>"
      ]
     },
     "metadata": {
      "needs_background": "light"
     },
     "output_type": "display_data"
    }
   ],
   "source": [
    "df['volatile acidity'].plot.box()"
   ]
  },
  {
   "cell_type": "markdown",
   "id": "bac9238c",
   "metadata": {},
   "source": [
    "outliers are present"
   ]
  },
  {
   "cell_type": "code",
   "execution_count": 104,
   "id": "8c7a5fc0",
   "metadata": {
    "id": "8c7a5fc0",
    "outputId": "c8a9bdf4-5406-4287-ecef-5f04bde093bb"
   },
   "outputs": [
    {
     "data": {
      "text/plain": [
       "<AxesSubplot:>"
      ]
     },
     "execution_count": 104,
     "metadata": {},
     "output_type": "execute_result"
    },
    {
     "data": {
      "image/png": "[encoded data removed]",
      "text/plain": [
       "<Figure size 432x288 with 1 Axes>"
      ]
     },
     "metadata": {
      "needs_background": "light"
     },
     "output_type": "display_data"
    }
   ],
   "source": [
    "df['residual sugar'].plot.box()"
   ]
  },
  {
   "cell_type": "markdown",
   "id": "f06b90a2",
   "metadata": {},
   "source": [
    "outliers are present"
   ]
  },
  {
   "cell_type": "code",
   "execution_count": 105,
   "id": "efd5f17a",
   "metadata": {
    "id": "efd5f17a",
    "outputId": "dfff6647-2899-4e0c-9b9c-bbd1f0d39ffa"
   },
   "outputs": [
    {
     "data": {
      "text/plain": [
       "<AxesSubplot:>"
      ]
     },
     "execution_count": 105,
     "metadata": {},
     "output_type": "execute_result"
    },
    {
     "data": {
      "image/png": "[encoded data removed]",
      "text/plain": [
       "<Figure size 432x288 with 1 Axes>"
      ]
     },
     "metadata": {
      "needs_background": "light"
     },
     "output_type": "display_data"
    }
   ],
   "source": [
    "df['free sulfur dioxide'].plot.box()"
   ]
  },
  {
   "cell_type": "markdown",
   "id": "894c5a38",
   "metadata": {},
   "source": [
    "outliers are present"
   ]
  },
  {
   "cell_type": "code",
   "execution_count": 106,
   "id": "c41ec46b",
   "metadata": {
    "id": "c41ec46b",
    "outputId": "1634c184-c03f-406c-cb85-26cb53b81a52"
   },
   "outputs": [
    {
     "data": {
      "text/plain": [
       "<AxesSubplot:>"
      ]
     },
     "execution_count": 106,
     "metadata": {},
     "output_type": "execute_result"
    },
    {
     "data": {
      "image/png": "[encoded data removed]",
      "text/plain": [
       "<Figure size 432x288 with 1 Axes>"
      ]
     },
     "metadata": {
      "needs_background": "light"
     },
     "output_type": "display_data"
    }
   ],
   "source": [
    "df['total sulfur dioxide'].plot.box()"
   ]
  },
  {
   "cell_type": "markdown",
   "id": "5114f2bc",
   "metadata": {},
   "source": [
    "outliers are present"
   ]
  },
  {
   "cell_type": "code",
   "execution_count": 107,
   "id": "54358cb6",
   "metadata": {
    "id": "54358cb6",
    "outputId": "fd7a03b2-ce83-4a67-cd9e-9ba549d19916"
   },
   "outputs": [
    {
     "data": {
      "text/plain": [
       "fixed acidity              AxesSubplot(0.125,0.536818;0.110714x0.343182)\n",
       "volatile acidity        AxesSubplot(0.257857,0.536818;0.110714x0.343182)\n",
       "citric acid             AxesSubplot(0.390714,0.536818;0.110714x0.343182)\n",
       "residual sugar          AxesSubplot(0.523571,0.536818;0.110714x0.343182)\n",
       "chlorides               AxesSubplot(0.656429,0.536818;0.110714x0.343182)\n",
       "free sulfur dioxide     AxesSubplot(0.789286,0.536818;0.110714x0.343182)\n",
       "total sulfur dioxide          AxesSubplot(0.125,0.125;0.110714x0.343182)\n",
       "density                    AxesSubplot(0.257857,0.125;0.110714x0.343182)\n",
       "pH                         AxesSubplot(0.390714,0.125;0.110714x0.343182)\n",
       "sulphates                  AxesSubplot(0.523571,0.125;0.110714x0.343182)\n",
       "alcohol                    AxesSubplot(0.656429,0.125;0.110714x0.343182)\n",
       "quality                    AxesSubplot(0.789286,0.125;0.110714x0.343182)\n",
       "dtype: object"
      ]
     },
     "execution_count": 107,
     "metadata": {},
     "output_type": "execute_result"
    },
    {
     "data": {
      "image/png": "[encoded data removed]",
      "text/plain": [
       "<Figure size 720x720 with 12 Axes>"
      ]
     },
     "metadata": {
      "needs_background": "light"
     },
     "output_type": "display_data"
    }
   ],
   "source": [
    "df.plot(kind='box',subplots=True,layout=(2,6),figsize=(10,10))"
   ]
  },
  {
   "cell_type": "markdown",
   "id": "65f9a759",
   "metadata": {},
   "source": [
    "outliers are present in almost every column."
   ]
  },
  {
   "cell_type": "code",
   "execution_count": 108,
   "id": "de806647",
   "metadata": {
    "id": "de806647",
    "outputId": "1e6ebfd0-db20-4205-b217-55b39ffb2c13"
   },
   "outputs": [
    {
     "data": {
      "text/plain": [
       "<AxesSubplot:xlabel='fixed acidity', ylabel='Density'>"
      ]
     },
     "execution_count": 108,
     "metadata": {},
     "output_type": "execute_result"
    },
    {
     "data": {
      "image/png": "[encoded data removed]",
      "text/plain": [
       "<Figure size 432x288 with 1 Axes>"
      ]
     },
     "metadata": {
      "needs_background": "light"
     },
     "output_type": "display_data"
    }
   ],
   "source": [
    "sns.distplot(df['fixed acidity'])"
   ]
  },
  {
   "cell_type": "markdown",
   "id": "6ce8cafb",
   "metadata": {},
   "source": [
    "graph is skewed."
   ]
  },
  {
   "cell_type": "code",
   "execution_count": 109,
   "id": "1eb2a1f6",
   "metadata": {
    "id": "1eb2a1f6",
    "outputId": "a46797a1-9001-4dca-d2a3-3c4869988d77"
   },
   "outputs": [
    {
     "data": {
      "text/plain": [
       "<AxesSubplot:xlabel='volatile acidity', ylabel='Density'>"
      ]
     },
     "execution_count": 109,
     "metadata": {},
     "output_type": "execute_result"
    },
    {
     "data": {
      "image/png": "[encoded data removed]",
      "text/plain": [
       "<Figure size 432x288 with 1 Axes>"
      ]
     },
     "metadata": {
      "needs_background": "light"
     },
     "output_type": "display_data"
    }
   ],
   "source": [
    "sns.distplot(df['volatile acidity'])"
   ]
  },
  {
   "cell_type": "markdown",
   "id": "4b67a789",
   "metadata": {},
   "source": [
    "plot is skewwd"
   ]
  },
  {
   "cell_type": "code",
   "execution_count": 110,
   "id": "6fc166e1",
   "metadata": {
    "id": "6fc166e1",
    "outputId": "0991edc0-e8b3-4a93-aa4c-bc7913a8de4b"
   },
   "outputs": [
    {
     "data": {
      "text/plain": [
       "<AxesSubplot:xlabel='citric acid', ylabel='Density'>"
      ]
     },
     "execution_count": 110,
     "metadata": {},
     "output_type": "execute_result"
    },
    {
     "data": {
      "image/png": "[encoded data removed]",
      "text/plain": [
       "<Figure size 432x288 with 1 Axes>"
      ]
     },
     "metadata": {
      "needs_background": "light"
     },
     "output_type": "display_data"
    }
   ],
   "source": [
    "sns.distplot(df['citric acid'])"
   ]
  },
  {
   "cell_type": "markdown",
   "id": "b71a1201",
   "metadata": {},
   "source": [
    "plot is skewed."
   ]
  },
  {
   "cell_type": "code",
   "execution_count": 111,
   "id": "fff9f519",
   "metadata": {
    "id": "fff9f519",
    "outputId": "9562e093-ba1c-466b-c964-86844897e773"
   },
   "outputs": [
    {
     "data": {
      "text/plain": [
       "<AxesSubplot:xlabel='residual sugar', ylabel='Density'>"
      ]
     },
     "execution_count": 111,
     "metadata": {},
     "output_type": "execute_result"
    },
    {
     "data": {
      "image/png": "[encoded data removed]",
      "text/plain": [
       "<Figure size 432x288 with 1 Axes>"
      ]
     },
     "metadata": {
      "needs_background": "light"
     },
     "output_type": "display_data"
    }
   ],
   "source": [
    "sns.distplot(df['residual sugar'])"
   ]
  },
  {
   "cell_type": "markdown",
   "id": "4d1442da",
   "metadata": {},
   "source": [
    "plot is skewed."
   ]
  },
  {
   "cell_type": "code",
   "execution_count": 112,
   "id": "9e7a7a93",
   "metadata": {
    "colab": {
     "base_uri": "https://localhost:8080/"
    },
    "id": "9e7a7a93",
    "outputId": "ee4da274-3f72-498b-cf1d-5b1c428930c0"
   },
   "outputs": [
    {
     "data": {
      "text/plain": [
       "fixed acidity           0.982751\n",
       "volatile acidity        0.671593\n",
       "citric acid             0.318337\n",
       "residual sugar          4.540655\n",
       "chlorides               5.680347\n",
       "free sulfur dioxide     1.250567\n",
       "total sulfur dioxide    1.515531\n",
       "density                 0.071288\n",
       "pH                      0.193683\n",
       "sulphates               2.428672\n",
       "alcohol                 0.860829\n",
       "quality                 0.217802\n",
       "dtype: float64"
      ]
     },
     "execution_count": 112,
     "metadata": {},
     "output_type": "execute_result"
    }
   ],
   "source": [
    "df.skew()"
   ]
  },
  {
   "cell_type": "markdown",
   "id": "be68a104",
   "metadata": {},
   "source": [
    "except citric acid, density skewness is present in every column."
   ]
  },
  {
   "cell_type": "code",
   "execution_count": 113,
   "id": "822759f3",
   "metadata": {},
   "outputs": [
    {
     "data": {
      "image/png": "[encoded data removed]",
      "text/plain": [
       "<Figure size 720x720 with 1 Axes>"
      ]
     },
     "metadata": {
      "needs_background": "light"
     },
     "output_type": "display_data"
    }
   ],
   "source": [
    "plt.figure(figsize=[10,10])\n",
    "plt.title(\"comparison between quality and alcohol\")\n",
    "sns.scatterplot(df['quality'],df['alcohol']);"
   ]
  },
  {
   "cell_type": "markdown",
   "id": "f15bb381",
   "metadata": {},
   "source": [
    "as we can see from the graph that lower the alcohol lower the quality, higher the alcohol higher the quality."
   ]
  },
  {
   "cell_type": "code",
   "execution_count": 114,
   "id": "b225dfe6",
   "metadata": {},
   "outputs": [
    {
     "data": {
      "image/png": "[encoded data removed]",
      "text/plain": [
       "<Figure size 432x432 with 1 Axes>"
      ]
     },
     "metadata": {
      "needs_background": "light"
     },
     "output_type": "display_data"
    }
   ],
   "source": [
    "plt.figure(figsize=[6,6])\n",
    "plt.title(\"comparison between quality and volatile acidity\")\n",
    "sns.scatterplot(df['quality'],df['volatile acidity']);"
   ]
  },
  {
   "cell_type": "markdown",
   "id": "59df3153",
   "metadata": {},
   "source": [
    "more the volatile acidity less is the quality"
   ]
  },
  {
   "cell_type": "code",
   "execution_count": 115,
   "id": "5bd79a3c",
   "metadata": {
    "colab": {
     "base_uri": "https://localhost:8080/"
    },
    "id": "5bd79a3c",
    "outputId": "98d21f6e-b56f-49f0-8d24-e5d4cc4b9fb7"
   },
   "outputs": [
    {
     "data": {
      "text/plain": [
       "(array([  13,   14,   15,   15,   17,   17,   19,   33,   38,   42,   43,\n",
       "          45,   57,   81,   81,   83,   86,   88,   91,   92,   95,  106,\n",
       "         106,  109,  120,  126,  127,  142,  144,  147,  151,  151,  151,\n",
       "         151,  163,  164,  169,  169,  181,  199,  226,  226,  240,  243,\n",
       "         244,  258,  258,  274,  281,  291,  324,  325,  339,  340,  347,\n",
       "         354,  374,  381,  391,  396,  396,  400,  400,  442,  442,  451,\n",
       "         459,  467,  480,  480,  494,  515,  517,  544,  554,  554,  555,\n",
       "         555,  557,  557,  568,  584,  588,  591,  595,  608,  614,  636,\n",
       "         639,  649,  649,  651,  652,  652,  652,  672,  672,  684,  690,\n",
       "         690,  692,  692,  695,  723,  724,  730,  754,  776,  777,  795,\n",
       "         821,  832,  836,  837,  889,  899,  911,  917,  923,  925,  926,\n",
       "         982, 1017, 1018, 1043, 1051, 1051, 1071, 1074, 1079, 1079, 1081,\n",
       "        1081, 1111, 1114, 1131, 1154, 1165, 1175, 1186, 1231, 1235, 1244,\n",
       "        1244, 1244, 1260, 1269, 1269, 1270, 1270, 1288, 1289, 1295, 1296,\n",
       "        1299, 1299, 1300, 1312, 1316, 1319, 1319, 1321, 1358, 1367, 1370,\n",
       "        1370, 1372, 1372, 1374, 1374, 1434, 1434, 1434, 1435, 1435, 1435,\n",
       "        1469, 1474, 1474, 1474, 1476, 1476, 1476, 1478, 1493, 1496, 1505,\n",
       "        1558, 1558, 1570, 1574, 1589], dtype=int64),\n",
       " array([ 9,  5,  5,  6,  4,  9,  4,  3,  1,  4,  9,  8,  5,  4,  9,  4,  9,\n",
       "         9,  9,  9,  8,  4,  9,  6,  1,  1,  1, 10, 10,  4,  2,  4,  8,  9,\n",
       "         3,  3,  4,  9,  4,  1,  4,  9,  4,  0,  0,  4,  9,  3,  4,  4,  3,\n",
       "         3,  9,  9,  0,  6,  0,  0,  0,  3,  5,  3,  5,  0,  7,  4, 11, 10,\n",
       "         3,  7,  3,  6, 11,  0,  0,  7,  0,  7,  0,  7,  4,  5, 10,  6,  3,\n",
       "         7,  9,  6,  9,  3,  6,  6,  0,  3, 10,  1,  6,  6,  1, 11,  4,  9,\n",
       "         8,  9,  1,  4,  4,  4,  4,  9, 10, 11,  7,  7,  7, 11,  3,  3,  3,\n",
       "         5,  5,  5,  7,  7,  3,  4,  9,  3,  3,  3,  6,  3,  6,  8,  7,  5,\n",
       "         5,  4,  5,  3,  5,  3,  3,  5,  6,  4,  7, 10,  7, 10,  9,  9,  5,\n",
       "         5,  1, 11,  8,  1,  8,  4,  9,  8,  5,  9,  4,  9,  4,  9,  4, 11,\n",
       "         3,  5,  7,  3,  5,  7, 11,  3,  5,  7,  3,  5,  7, 11,  6,  6, 11,\n",
       "         4,  5,  4,  3,  3], dtype=int64))"
      ]
     },
     "execution_count": 115,
     "metadata": {},
     "output_type": "execute_result"
    }
   ],
   "source": [
    "from scipy.stats import zscore\n",
    "import numpy as np\n",
    "z=np.abs(zscore(df))\n",
    "threshold=3\n",
    "np.where(z>3)"
   ]
  },
  {
   "cell_type": "markdown",
   "id": "391a5b48",
   "metadata": {},
   "source": [
    "this is the matrix where the z score is more than 3(threshold)"
   ]
  },
  {
   "cell_type": "code",
   "execution_count": 116,
   "id": "d6dc7443",
   "metadata": {
    "colab": {
     "base_uri": "https://localhost:8080/",
     "height": 202
    },
    "id": "d6dc7443",
    "outputId": "aca8fe44-0c0b-42a3-f573-b24eb5e3eb60"
   },
   "outputs": [
    {
     "data": {
      "text/plain": [
       "(1451, 12)"
      ]
     },
     "execution_count": 116,
     "metadata": {},
     "output_type": "execute_result"
    }
   ],
   "source": [
    "df_new=df[(z<3).all(axis=1)]\n",
    "df_new.head()\n",
    "df_new.shape"
   ]
  },
  {
   "cell_type": "markdown",
   "id": "61ed798c",
   "metadata": {},
   "source": [
    "after removing the outliers the shape  is 1451 rows and 12 columns."
   ]
  },
  {
   "cell_type": "code",
   "execution_count": 117,
   "id": "d1a83c70",
   "metadata": {
    "colab": {
     "base_uri": "https://localhost:8080/"
    },
    "id": "d1a83c70",
    "outputId": "732e6c95-8cad-48b3-b37d-5c71a2fe753e"
   },
   "outputs": [
    {
     "data": {
      "text/plain": [
       "9.255784865540964"
      ]
     },
     "execution_count": 117,
     "metadata": {},
     "output_type": "execute_result"
    }
   ],
   "source": [
    "Data_loss=((1599-1451)/1599)*100\n",
    "Data_loss # here  data  loss is more than 6%  "
   ]
  },
  {
   "cell_type": "markdown",
   "id": "d6c448de",
   "metadata": {},
   "source": [
    "i will not remove the outliers because there will be huge data loss."
   ]
  },
  {
   "cell_type": "code",
   "execution_count": 119,
   "id": "ec61c5bd",
   "metadata": {
    "id": "ec61c5bd"
   },
   "outputs": [],
   "source": [
    "import statsmodels.api as sm\n",
    "from scipy import stats\n",
    "from statsmodels.stats.outliers_influence import variance_inflation_factor"
   ]
  },
  {
   "cell_type": "code",
   "execution_count": 120,
   "id": "ed6f946b",
   "metadata": {
    "id": "ed6f946b"
   },
   "outputs": [],
   "source": [
    "def calc_vif(df):\n",
    "    vif=pd.DataFrame()\n",
    "    vif[\"variables\"]=df.columns\n",
    "    vif[\"VIF FACTOR\"]=[variance_inflation_factor(df.values,i) for i in range(df.shape[1])]\n",
    "    return(vif)"
   ]
  },
  {
   "cell_type": "code",
   "execution_count": 121,
   "id": "0e58a7b8",
   "metadata": {},
   "outputs": [
    {
     "data": {
      "text/html": [
       "<div>\n",
       "<style scoped>\n",
       "    .dataframe tbody tr th:only-of-type {\n",
       "        vertical-align: middle;\n",
       "    }\n",
       "\n",
       "    .dataframe tbody tr th {\n",
       "        vertical-align: top;\n",
       "    }\n",
       "\n",
       "    .dataframe thead th {\n",
       "        text-align: right;\n",
       "    }\n",
       "</style>\n",
       "<table border=\"1\" class=\"dataframe\">\n",
       "  <thead>\n",
       "    <tr style=\"text-align: right;\">\n",
       "      <th></th>\n",
       "      <th>variables</th>\n",
       "      <th>VIF FACTOR</th>\n",
       "    </tr>\n",
       "  </thead>\n",
       "  <tbody>\n",
       "    <tr>\n",
       "      <th>0</th>\n",
       "      <td>fixed acidity</td>\n",
       "      <td>74.455312</td>\n",
       "    </tr>\n",
       "    <tr>\n",
       "      <th>1</th>\n",
       "      <td>volatile acidity</td>\n",
       "      <td>17.960867</td>\n",
       "    </tr>\n",
       "    <tr>\n",
       "      <th>2</th>\n",
       "      <td>citric acid</td>\n",
       "      <td>9.192549</td>\n",
       "    </tr>\n",
       "    <tr>\n",
       "      <th>3</th>\n",
       "      <td>residual sugar</td>\n",
       "      <td>4.664003</td>\n",
       "    </tr>\n",
       "    <tr>\n",
       "      <th>4</th>\n",
       "      <td>chlorides</td>\n",
       "      <td>6.641291</td>\n",
       "    </tr>\n",
       "    <tr>\n",
       "      <th>5</th>\n",
       "      <td>free sulfur dioxide</td>\n",
       "      <td>6.460603</td>\n",
       "    </tr>\n",
       "    <tr>\n",
       "      <th>6</th>\n",
       "      <td>total sulfur dioxide</td>\n",
       "      <td>6.605274</td>\n",
       "    </tr>\n",
       "    <tr>\n",
       "      <th>7</th>\n",
       "      <td>density</td>\n",
       "      <td>1528.154302</td>\n",
       "    </tr>\n",
       "    <tr>\n",
       "      <th>8</th>\n",
       "      <td>pH</td>\n",
       "      <td>1078.171089</td>\n",
       "    </tr>\n",
       "    <tr>\n",
       "      <th>9</th>\n",
       "      <td>sulphates</td>\n",
       "      <td>22.462103</td>\n",
       "    </tr>\n",
       "    <tr>\n",
       "      <th>10</th>\n",
       "      <td>alcohol</td>\n",
       "      <td>147.616345</td>\n",
       "    </tr>\n",
       "    <tr>\n",
       "      <th>11</th>\n",
       "      <td>quality</td>\n",
       "      <td>77.728259</td>\n",
       "    </tr>\n",
       "  </tbody>\n",
       "</table>\n",
       "</div>"
      ],
      "text/plain": [
       "               variables   VIF FACTOR\n",
       "0          fixed acidity    74.455312\n",
       "1       volatile acidity    17.960867\n",
       "2            citric acid     9.192549\n",
       "3         residual sugar     4.664003\n",
       "4              chlorides     6.641291\n",
       "5    free sulfur dioxide     6.460603\n",
       "6   total sulfur dioxide     6.605274\n",
       "7                density  1528.154302\n",
       "8                     pH  1078.171089\n",
       "9              sulphates    22.462103\n",
       "10               alcohol   147.616345\n",
       "11               quality    77.728259"
      ]
     },
     "execution_count": 121,
     "metadata": {},
     "output_type": "execute_result"
    }
   ],
   "source": [
    "calc_vif(df)"
   ]
  },
  {
   "cell_type": "markdown",
   "id": "87c32195",
   "metadata": {},
   "source": [
    "the multicollinearity of density and ph is quite high. we will drop density column in order to reduce the multicollinearity."
   ]
  },
  {
   "cell_type": "code",
   "execution_count": 122,
   "id": "341da174",
   "metadata": {},
   "outputs": [],
   "source": [
    "df.drop('density',axis=1,inplace=True)"
   ]
  },
  {
   "cell_type": "markdown",
   "id": "da0c6a92",
   "metadata": {},
   "source": [
    "dropped density column."
   ]
  },
  {
   "cell_type": "code",
   "execution_count": 123,
   "id": "108e0fbb",
   "metadata": {},
   "outputs": [
    {
     "data": {
      "text/plain": [
       "(1599, 11)"
      ]
     },
     "execution_count": 123,
     "metadata": {},
     "output_type": "execute_result"
    }
   ],
   "source": [
    "df.shape"
   ]
  },
  {
   "cell_type": "markdown",
   "id": "fa796dd5",
   "metadata": {},
   "source": [
    "after dropping the column, 1599 rows and 11 columns."
   ]
  },
  {
   "cell_type": "code",
   "execution_count": 124,
   "id": "446d014f",
   "metadata": {},
   "outputs": [
    {
     "data": {
      "text/html": [
       "<div>\n",
       "<style scoped>\n",
       "    .dataframe tbody tr th:only-of-type {\n",
       "        vertical-align: middle;\n",
       "    }\n",
       "\n",
       "    .dataframe tbody tr th {\n",
       "        vertical-align: top;\n",
       "    }\n",
       "\n",
       "    .dataframe thead th {\n",
       "        text-align: right;\n",
       "    }\n",
       "</style>\n",
       "<table border=\"1\" class=\"dataframe\">\n",
       "  <thead>\n",
       "    <tr style=\"text-align: right;\">\n",
       "      <th></th>\n",
       "      <th>variables</th>\n",
       "      <th>VIF FACTOR</th>\n",
       "    </tr>\n",
       "  </thead>\n",
       "  <tbody>\n",
       "    <tr>\n",
       "      <th>0</th>\n",
       "      <td>fixed acidity</td>\n",
       "      <td>41.427952</td>\n",
       "    </tr>\n",
       "    <tr>\n",
       "      <th>1</th>\n",
       "      <td>volatile acidity</td>\n",
       "      <td>17.942015</td>\n",
       "    </tr>\n",
       "    <tr>\n",
       "      <th>2</th>\n",
       "      <td>citric acid</td>\n",
       "      <td>9.165111</td>\n",
       "    </tr>\n",
       "    <tr>\n",
       "      <th>3</th>\n",
       "      <td>residual sugar</td>\n",
       "      <td>4.663615</td>\n",
       "    </tr>\n",
       "    <tr>\n",
       "      <th>4</th>\n",
       "      <td>chlorides</td>\n",
       "      <td>6.042817</td>\n",
       "    </tr>\n",
       "    <tr>\n",
       "      <th>5</th>\n",
       "      <td>free sulfur dioxide</td>\n",
       "      <td>6.398389</td>\n",
       "    </tr>\n",
       "    <tr>\n",
       "      <th>6</th>\n",
       "      <td>total sulfur dioxide</td>\n",
       "      <td>6.125698</td>\n",
       "    </tr>\n",
       "    <tr>\n",
       "      <th>7</th>\n",
       "      <td>pH</td>\n",
       "      <td>165.657063</td>\n",
       "    </tr>\n",
       "    <tr>\n",
       "      <th>8</th>\n",
       "      <td>sulphates</td>\n",
       "      <td>22.461458</td>\n",
       "    </tr>\n",
       "    <tr>\n",
       "      <th>9</th>\n",
       "      <td>alcohol</td>\n",
       "      <td>147.171533</td>\n",
       "    </tr>\n",
       "    <tr>\n",
       "      <th>10</th>\n",
       "      <td>quality</td>\n",
       "      <td>75.242677</td>\n",
       "    </tr>\n",
       "  </tbody>\n",
       "</table>\n",
       "</div>"
      ],
      "text/plain": [
       "               variables  VIF FACTOR\n",
       "0          fixed acidity   41.427952\n",
       "1       volatile acidity   17.942015\n",
       "2            citric acid    9.165111\n",
       "3         residual sugar    4.663615\n",
       "4              chlorides    6.042817\n",
       "5    free sulfur dioxide    6.398389\n",
       "6   total sulfur dioxide    6.125698\n",
       "7                     pH  165.657063\n",
       "8              sulphates   22.461458\n",
       "9                alcohol  147.171533\n",
       "10               quality   75.242677"
      ]
     },
     "execution_count": 124,
     "metadata": {},
     "output_type": "execute_result"
    }
   ],
   "source": [
    "calc_vif(df)"
   ]
  },
  {
   "cell_type": "markdown",
   "id": "96c66258",
   "metadata": {},
   "source": [
    "vif has reduced for all the columns after dropping one column."
   ]
  },
  {
   "cell_type": "code",
   "execution_count": 125,
   "id": "9cd2b9f7",
   "metadata": {},
   "outputs": [
    {
     "data": {
      "text/plain": [
       "fixed acidity           0.982751\n",
       "volatile acidity        0.671593\n",
       "citric acid             0.318337\n",
       "residual sugar          4.540655\n",
       "chlorides               5.680347\n",
       "free sulfur dioxide     1.250567\n",
       "total sulfur dioxide    1.515531\n",
       "pH                      0.193683\n",
       "sulphates               2.428672\n",
       "alcohol                 0.860829\n",
       "quality                 0.217802\n",
       "dtype: float64"
      ]
     },
     "execution_count": 125,
     "metadata": {},
     "output_type": "execute_result"
    }
   ],
   "source": [
    "df.skew()"
   ]
  },
  {
   "cell_type": "markdown",
   "id": "23d9454c",
   "metadata": {},
   "source": [
    "almost every column has skewness except citric acid, ph, quality."
   ]
  },
  {
   "cell_type": "code",
   "execution_count": 126,
   "id": "ff0514b7",
   "metadata": {},
   "outputs": [
    {
     "data": {
      "text/html": [
       "<div>\n",
       "<style scoped>\n",
       "    .dataframe tbody tr th:only-of-type {\n",
       "        vertical-align: middle;\n",
       "    }\n",
       "\n",
       "    .dataframe tbody tr th {\n",
       "        vertical-align: top;\n",
       "    }\n",
       "\n",
       "    .dataframe thead th {\n",
       "        text-align: right;\n",
       "    }\n",
       "</style>\n",
       "<table border=\"1\" class=\"dataframe\">\n",
       "  <thead>\n",
       "    <tr style=\"text-align: right;\">\n",
       "      <th></th>\n",
       "      <th>fixed acidity</th>\n",
       "      <th>volatile acidity</th>\n",
       "      <th>citric acid</th>\n",
       "      <th>residual sugar</th>\n",
       "      <th>chlorides</th>\n",
       "      <th>free sulfur dioxide</th>\n",
       "      <th>total sulfur dioxide</th>\n",
       "      <th>pH</th>\n",
       "      <th>sulphates</th>\n",
       "      <th>alcohol</th>\n",
       "      <th>quality</th>\n",
       "    </tr>\n",
       "  </thead>\n",
       "  <tbody>\n",
       "    <tr>\n",
       "      <th>0</th>\n",
       "      <td>7.4</td>\n",
       "      <td>0.700</td>\n",
       "      <td>0.00</td>\n",
       "      <td>1.9</td>\n",
       "      <td>0.076</td>\n",
       "      <td>11.0</td>\n",
       "      <td>34.0</td>\n",
       "      <td>3.51</td>\n",
       "      <td>0.56</td>\n",
       "      <td>9.4</td>\n",
       "      <td>bad</td>\n",
       "    </tr>\n",
       "    <tr>\n",
       "      <th>1</th>\n",
       "      <td>7.8</td>\n",
       "      <td>0.880</td>\n",
       "      <td>0.00</td>\n",
       "      <td>2.6</td>\n",
       "      <td>0.098</td>\n",
       "      <td>25.0</td>\n",
       "      <td>67.0</td>\n",
       "      <td>3.20</td>\n",
       "      <td>0.68</td>\n",
       "      <td>9.8</td>\n",
       "      <td>bad</td>\n",
       "    </tr>\n",
       "    <tr>\n",
       "      <th>2</th>\n",
       "      <td>7.8</td>\n",
       "      <td>0.760</td>\n",
       "      <td>0.04</td>\n",
       "      <td>2.3</td>\n",
       "      <td>0.092</td>\n",
       "      <td>15.0</td>\n",
       "      <td>54.0</td>\n",
       "      <td>3.26</td>\n",
       "      <td>0.65</td>\n",
       "      <td>9.8</td>\n",
       "      <td>bad</td>\n",
       "    </tr>\n",
       "    <tr>\n",
       "      <th>3</th>\n",
       "      <td>11.2</td>\n",
       "      <td>0.280</td>\n",
       "      <td>0.56</td>\n",
       "      <td>1.9</td>\n",
       "      <td>0.075</td>\n",
       "      <td>17.0</td>\n",
       "      <td>60.0</td>\n",
       "      <td>3.16</td>\n",
       "      <td>0.58</td>\n",
       "      <td>9.8</td>\n",
       "      <td>bad</td>\n",
       "    </tr>\n",
       "    <tr>\n",
       "      <th>4</th>\n",
       "      <td>7.4</td>\n",
       "      <td>0.700</td>\n",
       "      <td>0.00</td>\n",
       "      <td>1.9</td>\n",
       "      <td>0.076</td>\n",
       "      <td>11.0</td>\n",
       "      <td>34.0</td>\n",
       "      <td>3.51</td>\n",
       "      <td>0.56</td>\n",
       "      <td>9.4</td>\n",
       "      <td>bad</td>\n",
       "    </tr>\n",
       "    <tr>\n",
       "      <th>...</th>\n",
       "      <td>...</td>\n",
       "      <td>...</td>\n",
       "      <td>...</td>\n",
       "      <td>...</td>\n",
       "      <td>...</td>\n",
       "      <td>...</td>\n",
       "      <td>...</td>\n",
       "      <td>...</td>\n",
       "      <td>...</td>\n",
       "      <td>...</td>\n",
       "      <td>...</td>\n",
       "    </tr>\n",
       "    <tr>\n",
       "      <th>1594</th>\n",
       "      <td>6.2</td>\n",
       "      <td>0.600</td>\n",
       "      <td>0.08</td>\n",
       "      <td>2.0</td>\n",
       "      <td>0.090</td>\n",
       "      <td>32.0</td>\n",
       "      <td>44.0</td>\n",
       "      <td>3.45</td>\n",
       "      <td>0.58</td>\n",
       "      <td>10.5</td>\n",
       "      <td>bad</td>\n",
       "    </tr>\n",
       "    <tr>\n",
       "      <th>1595</th>\n",
       "      <td>5.9</td>\n",
       "      <td>0.550</td>\n",
       "      <td>0.10</td>\n",
       "      <td>2.2</td>\n",
       "      <td>0.062</td>\n",
       "      <td>39.0</td>\n",
       "      <td>51.0</td>\n",
       "      <td>3.52</td>\n",
       "      <td>0.76</td>\n",
       "      <td>11.2</td>\n",
       "      <td>bad</td>\n",
       "    </tr>\n",
       "    <tr>\n",
       "      <th>1596</th>\n",
       "      <td>6.3</td>\n",
       "      <td>0.510</td>\n",
       "      <td>0.13</td>\n",
       "      <td>2.3</td>\n",
       "      <td>0.076</td>\n",
       "      <td>29.0</td>\n",
       "      <td>40.0</td>\n",
       "      <td>3.42</td>\n",
       "      <td>0.75</td>\n",
       "      <td>11.0</td>\n",
       "      <td>bad</td>\n",
       "    </tr>\n",
       "    <tr>\n",
       "      <th>1597</th>\n",
       "      <td>5.9</td>\n",
       "      <td>0.645</td>\n",
       "      <td>0.12</td>\n",
       "      <td>2.0</td>\n",
       "      <td>0.075</td>\n",
       "      <td>32.0</td>\n",
       "      <td>44.0</td>\n",
       "      <td>3.57</td>\n",
       "      <td>0.71</td>\n",
       "      <td>10.2</td>\n",
       "      <td>bad</td>\n",
       "    </tr>\n",
       "    <tr>\n",
       "      <th>1598</th>\n",
       "      <td>6.0</td>\n",
       "      <td>0.310</td>\n",
       "      <td>0.47</td>\n",
       "      <td>3.6</td>\n",
       "      <td>0.067</td>\n",
       "      <td>18.0</td>\n",
       "      <td>42.0</td>\n",
       "      <td>3.39</td>\n",
       "      <td>0.66</td>\n",
       "      <td>11.0</td>\n",
       "      <td>bad</td>\n",
       "    </tr>\n",
       "  </tbody>\n",
       "</table>\n",
       "<p>1599 rows × 11 columns</p>\n",
       "</div>"
      ],
      "text/plain": [
       "      fixed acidity  volatile acidity  citric acid  residual sugar  chlorides  \\\n",
       "0               7.4             0.700         0.00             1.9      0.076   \n",
       "1               7.8             0.880         0.00             2.6      0.098   \n",
       "2               7.8             0.760         0.04             2.3      0.092   \n",
       "3              11.2             0.280         0.56             1.9      0.075   \n",
       "4               7.4             0.700         0.00             1.9      0.076   \n",
       "...             ...               ...          ...             ...        ...   \n",
       "1594            6.2             0.600         0.08             2.0      0.090   \n",
       "1595            5.9             0.550         0.10             2.2      0.062   \n",
       "1596            6.3             0.510         0.13             2.3      0.076   \n",
       "1597            5.9             0.645         0.12             2.0      0.075   \n",
       "1598            6.0             0.310         0.47             3.6      0.067   \n",
       "\n",
       "      free sulfur dioxide  total sulfur dioxide    pH  sulphates  alcohol  \\\n",
       "0                    11.0                  34.0  3.51       0.56      9.4   \n",
       "1                    25.0                  67.0  3.20       0.68      9.8   \n",
       "2                    15.0                  54.0  3.26       0.65      9.8   \n",
       "3                    17.0                  60.0  3.16       0.58      9.8   \n",
       "4                    11.0                  34.0  3.51       0.56      9.4   \n",
       "...                   ...                   ...   ...        ...      ...   \n",
       "1594                 32.0                  44.0  3.45       0.58     10.5   \n",
       "1595                 39.0                  51.0  3.52       0.76     11.2   \n",
       "1596                 29.0                  40.0  3.42       0.75     11.0   \n",
       "1597                 32.0                  44.0  3.57       0.71     10.2   \n",
       "1598                 18.0                  42.0  3.39       0.66     11.0   \n",
       "\n",
       "     quality  \n",
       "0        bad  \n",
       "1        bad  \n",
       "2        bad  \n",
       "3        bad  \n",
       "4        bad  \n",
       "...      ...  \n",
       "1594     bad  \n",
       "1595     bad  \n",
       "1596     bad  \n",
       "1597     bad  \n",
       "1598     bad  \n",
       "\n",
       "[1599 rows x 11 columns]"
      ]
     },
     "execution_count": 126,
     "metadata": {},
     "output_type": "execute_result"
    }
   ],
   "source": [
    "bins=(2,6,8)\n",
    "group_names=['bad','good']\n",
    "df['quality']=pd.cut(df['quality'],bins=bins,labels=group_names)\n",
    "df"
   ]
  },
  {
   "cell_type": "markdown",
   "id": "24a8b8ca",
   "metadata": {},
   "source": [
    "grouping the quality column into good and bad wine, bad wine comes uner 6 and below and good comes above 6."
   ]
  },
  {
   "cell_type": "code",
   "execution_count": 127,
   "id": "c4269b6e",
   "metadata": {},
   "outputs": [
    {
     "data": {
      "text/plain": [
       "bad     1382\n",
       "good     217\n",
       "Name: quality, dtype: int64"
      ]
     },
     "execution_count": 127,
     "metadata": {},
     "output_type": "execute_result"
    }
   ],
   "source": [
    "df['quality'].value_counts()"
   ]
  },
  {
   "cell_type": "markdown",
   "id": "95635ca3",
   "metadata": {},
   "source": [
    "data is highly imbalanced, we need to balance it."
   ]
  },
  {
   "cell_type": "code",
   "execution_count": 128,
   "id": "11a0decb",
   "metadata": {},
   "outputs": [
    {
     "data": {
      "text/plain": [
       "<AxesSubplot:xlabel='quality', ylabel='count'>"
      ]
     },
     "execution_count": 128,
     "metadata": {},
     "output_type": "execute_result"
    },
    {
     "data": {
      "image/png": "[encoded data removed]",
      "text/plain": [
       "<Figure size 432x288 with 1 Axes>"
      ]
     },
     "metadata": {
      "needs_background": "light"
     },
     "output_type": "display_data"
    }
   ],
   "source": [
    "sns.countplot(df['quality'])"
   ]
  },
  {
   "cell_type": "markdown",
   "id": "2bbe4217",
   "metadata": {},
   "source": [
    "pictorial representation of the count of good and bad quality, data is imbalanced."
   ]
  },
  {
   "cell_type": "code",
   "execution_count": 129,
   "id": "9dfaac18",
   "metadata": {},
   "outputs": [],
   "source": [
    "x=df.iloc[:,0:10]\n",
    "y=df.iloc[:,-1]"
   ]
  },
  {
   "cell_type": "markdown",
   "id": "35ebc8a0",
   "metadata": {},
   "source": [
    "dividing dataframe into x and y for data cleaning, training and testing."
   ]
  },
  {
   "cell_type": "code",
   "execution_count": 130,
   "id": "48b090da",
   "metadata": {},
   "outputs": [
    {
     "data": {
      "text/plain": [
       "fixed acidity           0.982751\n",
       "volatile acidity        0.671593\n",
       "citric acid             0.318337\n",
       "residual sugar          4.540655\n",
       "chlorides               5.680347\n",
       "free sulfur dioxide     1.250567\n",
       "total sulfur dioxide    1.515531\n",
       "pH                      0.193683\n",
       "sulphates               2.428672\n",
       "alcohol                 0.860829\n",
       "dtype: float64"
      ]
     },
     "execution_count": 130,
     "metadata": {},
     "output_type": "execute_result"
    }
   ],
   "source": [
    "x.skew()"
   ]
  },
  {
   "cell_type": "code",
   "execution_count": 131,
   "id": "75296df6",
   "metadata": {},
   "outputs": [],
   "source": [
    "from sklearn.preprocessing import PowerTransformer\n",
    "pt=PowerTransformer(method='yeo-johnson') \n",
    "x=pt.fit_transform(x)"
   ]
  },
  {
   "cell_type": "code",
   "execution_count": 132,
   "id": "71a54fbe",
   "metadata": {},
   "outputs": [],
   "source": [
    "x=pd.DataFrame(x)"
   ]
  },
  {
   "cell_type": "code",
   "execution_count": 133,
   "id": "6bfed9c7",
   "metadata": {},
   "outputs": [
    {
     "data": {
      "text/plain": [
       "0    0.002529\n",
       "1    0.003099\n",
       "2    0.017788\n",
       "3   -0.015715\n",
       "4   -0.151304\n",
       "5   -0.009948\n",
       "6   -0.003752\n",
       "7   -0.002823\n",
       "8    0.009985\n",
       "9    0.112372\n",
       "dtype: float64"
      ]
     },
     "execution_count": 133,
     "metadata": {},
     "output_type": "execute_result"
    }
   ],
   "source": [
    "x.skew()"
   ]
  },
  {
   "cell_type": "markdown",
   "id": "e9337b9c",
   "metadata": {},
   "source": [
    "skewness is removed by using power transform method, as all columns are in between-/+ 0.5."
   ]
  },
  {
   "cell_type": "code",
   "execution_count": 134,
   "id": "93dc7c15",
   "metadata": {},
   "outputs": [
    {
     "data": {
      "text/plain": [
       "0    float64\n",
       "1    float64\n",
       "2    float64\n",
       "3    float64\n",
       "4    float64\n",
       "5    float64\n",
       "6    float64\n",
       "7    float64\n",
       "8    float64\n",
       "9    float64\n",
       "dtype: object"
      ]
     },
     "execution_count": 134,
     "metadata": {},
     "output_type": "execute_result"
    }
   ],
   "source": [
    "x.dtypes"
   ]
  },
  {
   "cell_type": "markdown",
   "id": "fb661e3c",
   "metadata": {},
   "source": [
    "all the datatype of x is float datatype"
   ]
  },
  {
   "cell_type": "code",
   "execution_count": 135,
   "id": "4eaa821d",
   "metadata": {},
   "outputs": [
    {
     "data": {
      "text/plain": [
       "CategoricalDtype(categories=['bad', 'good'], ordered=True)"
      ]
     },
     "execution_count": 135,
     "metadata": {},
     "output_type": "execute_result"
    }
   ],
   "source": [
    "y.dtypes"
   ]
  },
  {
   "cell_type": "markdown",
   "id": "fe7ab559",
   "metadata": {},
   "source": [
    "y has categorical datatypes, good and bad. we need to encode thos for machine learning"
   ]
  },
  {
   "cell_type": "code",
   "execution_count": 136,
   "id": "30a38948",
   "metadata": {},
   "outputs": [],
   "source": [
    "from sklearn import preprocessing\n",
    "from sklearn.preprocessing import LabelEncoder\n",
    "LB = LabelEncoder()\n",
    "y = LB.fit_transform(y)\n"
   ]
  },
  {
   "cell_type": "markdown",
   "id": "01edb9c5",
   "metadata": {},
   "source": [
    "usinng label encoder to encode the y column."
   ]
  },
  {
   "cell_type": "code",
   "execution_count": 137,
   "id": "439086cf",
   "metadata": {},
   "outputs": [
    {
     "data": {
      "text/html": [
       "<div>\n",
       "<style scoped>\n",
       "    .dataframe tbody tr th:only-of-type {\n",
       "        vertical-align: middle;\n",
       "    }\n",
       "\n",
       "    .dataframe tbody tr th {\n",
       "        vertical-align: top;\n",
       "    }\n",
       "\n",
       "    .dataframe thead th {\n",
       "        text-align: right;\n",
       "    }\n",
       "</style>\n",
       "<table border=\"1\" class=\"dataframe\">\n",
       "  <thead>\n",
       "    <tr style=\"text-align: right;\">\n",
       "      <th></th>\n",
       "      <th>0</th>\n",
       "    </tr>\n",
       "  </thead>\n",
       "  <tbody>\n",
       "    <tr>\n",
       "      <th>0</th>\n",
       "      <td>0</td>\n",
       "    </tr>\n",
       "    <tr>\n",
       "      <th>1</th>\n",
       "      <td>0</td>\n",
       "    </tr>\n",
       "    <tr>\n",
       "      <th>2</th>\n",
       "      <td>0</td>\n",
       "    </tr>\n",
       "    <tr>\n",
       "      <th>3</th>\n",
       "      <td>0</td>\n",
       "    </tr>\n",
       "    <tr>\n",
       "      <th>4</th>\n",
       "      <td>0</td>\n",
       "    </tr>\n",
       "    <tr>\n",
       "      <th>...</th>\n",
       "      <td>...</td>\n",
       "    </tr>\n",
       "    <tr>\n",
       "      <th>1594</th>\n",
       "      <td>0</td>\n",
       "    </tr>\n",
       "    <tr>\n",
       "      <th>1595</th>\n",
       "      <td>0</td>\n",
       "    </tr>\n",
       "    <tr>\n",
       "      <th>1596</th>\n",
       "      <td>0</td>\n",
       "    </tr>\n",
       "    <tr>\n",
       "      <th>1597</th>\n",
       "      <td>0</td>\n",
       "    </tr>\n",
       "    <tr>\n",
       "      <th>1598</th>\n",
       "      <td>0</td>\n",
       "    </tr>\n",
       "  </tbody>\n",
       "</table>\n",
       "<p>1599 rows × 1 columns</p>\n",
       "</div>"
      ],
      "text/plain": [
       "      0\n",
       "0     0\n",
       "1     0\n",
       "2     0\n",
       "3     0\n",
       "4     0\n",
       "...  ..\n",
       "1594  0\n",
       "1595  0\n",
       "1596  0\n",
       "1597  0\n",
       "1598  0\n",
       "\n",
       "[1599 rows x 1 columns]"
      ]
     },
     "execution_count": 137,
     "metadata": {},
     "output_type": "execute_result"
    }
   ],
   "source": [
    "y=pd.DataFrame(y)\n",
    "y"
   ]
  },
  {
   "cell_type": "markdown",
   "id": "8560c6bf",
   "metadata": {},
   "source": [
    "good and bad is converted to 1 and 0 respectively."
   ]
  },
  {
   "cell_type": "code",
   "execution_count": 138,
   "id": "12ec99b3",
   "metadata": {},
   "outputs": [],
   "source": [
    "from imblearn.over_sampling import SMOTE"
   ]
  },
  {
   "cell_type": "code",
   "execution_count": 139,
   "id": "756c1f40",
   "metadata": {},
   "outputs": [
    {
     "data": {
      "text/plain": [
       "0    1382\n",
       "1    1382\n",
       "dtype: int64"
      ]
     },
     "execution_count": 139,
     "metadata": {},
     "output_type": "execute_result"
    }
   ],
   "source": [
    "smt=SMOTE()\n",
    "trainx,trainy=smt.fit_resample(x,y)\n",
    "trainx.value_counts()\n",
    "trainy.value_counts()"
   ]
  },
  {
   "cell_type": "markdown",
   "id": "82edfcf3",
   "metadata": {},
   "source": [
    "with the help of pver sampling technique, we increased the value of 1 to 1382"
   ]
  },
  {
   "cell_type": "code",
   "execution_count": 140,
   "id": "0ac2b1fd",
   "metadata": {},
   "outputs": [
    {
     "data": {
      "text/plain": [
       "(2764, 10)"
      ]
     },
     "execution_count": 140,
     "metadata": {},
     "output_type": "execute_result"
    }
   ],
   "source": [
    "trainx.shape"
   ]
  },
  {
   "cell_type": "markdown",
   "id": "a71abcaa",
   "metadata": {},
   "source": [
    "shape of trainx is 2764 rows and 10 columns"
   ]
  },
  {
   "cell_type": "code",
   "execution_count": 141,
   "id": "42764e7e",
   "metadata": {},
   "outputs": [
    {
     "data": {
      "text/plain": [
       "(2764, 1)"
      ]
     },
     "execution_count": 141,
     "metadata": {},
     "output_type": "execute_result"
    }
   ],
   "source": [
    "trainy.shape"
   ]
  },
  {
   "cell_type": "markdown",
   "id": "56a2e51d",
   "metadata": {},
   "source": [
    "shape of trainy is 2764 rows and 1 column"
   ]
  },
  {
   "cell_type": "code",
   "execution_count": 142,
   "id": "6b20bc4b",
   "metadata": {},
   "outputs": [
    {
     "data": {
      "text/html": [
       "<div>\n",
       "<style scoped>\n",
       "    .dataframe tbody tr th:only-of-type {\n",
       "        vertical-align: middle;\n",
       "    }\n",
       "\n",
       "    .dataframe tbody tr th {\n",
       "        vertical-align: top;\n",
       "    }\n",
       "\n",
       "    .dataframe thead th {\n",
       "        text-align: right;\n",
       "    }\n",
       "</style>\n",
       "<table border=\"1\" class=\"dataframe\">\n",
       "  <thead>\n",
       "    <tr style=\"text-align: right;\">\n",
       "      <th></th>\n",
       "      <th>0</th>\n",
       "      <th>1</th>\n",
       "      <th>2</th>\n",
       "      <th>3</th>\n",
       "      <th>4</th>\n",
       "      <th>5</th>\n",
       "      <th>6</th>\n",
       "      <th>7</th>\n",
       "      <th>8</th>\n",
       "      <th>9</th>\n",
       "    </tr>\n",
       "  </thead>\n",
       "  <tbody>\n",
       "    <tr>\n",
       "      <th>0</th>\n",
       "      <td>-0.442666</td>\n",
       "      <td>0.995542</td>\n",
       "      <td>-1.531109</td>\n",
       "      <td>-0.597145</td>\n",
       "      <td>-0.172896</td>\n",
       "      <td>-0.268045</td>\n",
       "      <td>-0.124411</td>\n",
       "      <td>1.275690</td>\n",
       "      <td>-0.581650</td>\n",
       "      <td>-1.075025</td>\n",
       "    </tr>\n",
       "    <tr>\n",
       "      <th>1</th>\n",
       "      <td>-0.161308</td>\n",
       "      <td>1.771299</td>\n",
       "      <td>-1.531109</td>\n",
       "      <td>0.556565</td>\n",
       "      <td>0.786204</td>\n",
       "      <td>0.993852</td>\n",
       "      <td>0.854954</td>\n",
       "      <td>-0.709517</td>\n",
       "      <td>0.395140</td>\n",
       "      <td>-0.500860</td>\n",
       "    </tr>\n",
       "    <tr>\n",
       "      <th>2</th>\n",
       "      <td>-0.161308</td>\n",
       "      <td>1.269801</td>\n",
       "      <td>-1.255359</td>\n",
       "      <td>0.152372</td>\n",
       "      <td>0.560696</td>\n",
       "      <td>0.193450</td>\n",
       "      <td>0.540394</td>\n",
       "      <td>-0.310054</td>\n",
       "      <td>0.183772</td>\n",
       "      <td>-0.500860</td>\n",
       "    </tr>\n",
       "    <tr>\n",
       "      <th>3</th>\n",
       "      <td>1.522582</td>\n",
       "      <td>-1.550050</td>\n",
       "      <td>1.398471</td>\n",
       "      <td>-0.597145</td>\n",
       "      <td>-0.226113</td>\n",
       "      <td>0.385115</td>\n",
       "      <td>0.693699</td>\n",
       "      <td>-0.980154</td>\n",
       "      <td>-0.392318</td>\n",
       "      <td>-0.500860</td>\n",
       "    </tr>\n",
       "    <tr>\n",
       "      <th>4</th>\n",
       "      <td>-0.442666</td>\n",
       "      <td>0.995542</td>\n",
       "      <td>-1.531109</td>\n",
       "      <td>-0.597145</td>\n",
       "      <td>-0.172896</td>\n",
       "      <td>-0.268045</td>\n",
       "      <td>-0.124411</td>\n",
       "      <td>1.275690</td>\n",
       "      <td>-0.581650</td>\n",
       "      <td>-1.075025</td>\n",
       "    </tr>\n",
       "    <tr>\n",
       "      <th>...</th>\n",
       "      <td>...</td>\n",
       "      <td>...</td>\n",
       "      <td>...</td>\n",
       "      <td>...</td>\n",
       "      <td>...</td>\n",
       "      <td>...</td>\n",
       "      <td>...</td>\n",
       "      <td>...</td>\n",
       "      <td>...</td>\n",
       "      <td>...</td>\n",
       "    </tr>\n",
       "    <tr>\n",
       "      <th>2759</th>\n",
       "      <td>-2.651336</td>\n",
       "      <td>-0.063877</td>\n",
       "      <td>-0.502531</td>\n",
       "      <td>-0.137980</td>\n",
       "      <td>-2.505681</td>\n",
       "      <td>0.291904</td>\n",
       "      <td>1.409986</td>\n",
       "      <td>1.100188</td>\n",
       "      <td>1.389609</td>\n",
       "      <td>1.886410</td>\n",
       "    </tr>\n",
       "    <tr>\n",
       "      <th>2760</th>\n",
       "      <td>-0.521423</td>\n",
       "      <td>0.427119</td>\n",
       "      <td>-1.507330</td>\n",
       "      <td>-0.406092</td>\n",
       "      <td>0.478685</td>\n",
       "      <td>-0.415274</td>\n",
       "      <td>-1.236535</td>\n",
       "      <td>0.503365</td>\n",
       "      <td>-0.647380</td>\n",
       "      <td>0.825203</td>\n",
       "    </tr>\n",
       "    <tr>\n",
       "      <th>2761</th>\n",
       "      <td>1.686906</td>\n",
       "      <td>-1.237688</td>\n",
       "      <td>1.127699</td>\n",
       "      <td>-1.318068</td>\n",
       "      <td>-0.835998</td>\n",
       "      <td>0.520566</td>\n",
       "      <td>-0.091976</td>\n",
       "      <td>-1.352629</td>\n",
       "      <td>0.510548</td>\n",
       "      <td>0.133362</td>\n",
       "    </tr>\n",
       "    <tr>\n",
       "      <th>2762</th>\n",
       "      <td>-0.325729</td>\n",
       "      <td>-1.658188</td>\n",
       "      <td>0.225630</td>\n",
       "      <td>-0.212781</td>\n",
       "      <td>-1.277716</td>\n",
       "      <td>0.511709</td>\n",
       "      <td>0.112317</td>\n",
       "      <td>0.169994</td>\n",
       "      <td>1.213418</td>\n",
       "      <td>0.821679</td>\n",
       "    </tr>\n",
       "    <tr>\n",
       "      <th>2763</th>\n",
       "      <td>-2.700540</td>\n",
       "      <td>0.366017</td>\n",
       "      <td>-1.473017</td>\n",
       "      <td>-1.017079</td>\n",
       "      <td>-2.433897</td>\n",
       "      <td>0.105329</td>\n",
       "      <td>1.226317</td>\n",
       "      <td>1.568911</td>\n",
       "      <td>1.613020</td>\n",
       "      <td>1.839223</td>\n",
       "    </tr>\n",
       "  </tbody>\n",
       "</table>\n",
       "<p>2764 rows × 10 columns</p>\n",
       "</div>"
      ],
      "text/plain": [
       "             0         1         2         3         4         5         6  \\\n",
       "0    -0.442666  0.995542 -1.531109 -0.597145 -0.172896 -0.268045 -0.124411   \n",
       "1    -0.161308  1.771299 -1.531109  0.556565  0.786204  0.993852  0.854954   \n",
       "2    -0.161308  1.269801 -1.255359  0.152372  0.560696  0.193450  0.540394   \n",
       "3     1.522582 -1.550050  1.398471 -0.597145 -0.226113  0.385115  0.693699   \n",
       "4    -0.442666  0.995542 -1.531109 -0.597145 -0.172896 -0.268045 -0.124411   \n",
       "...        ...       ...       ...       ...       ...       ...       ...   \n",
       "2759 -2.651336 -0.063877 -0.502531 -0.137980 -2.505681  0.291904  1.409986   \n",
       "2760 -0.521423  0.427119 -1.507330 -0.406092  0.478685 -0.415274 -1.236535   \n",
       "2761  1.686906 -1.237688  1.127699 -1.318068 -0.835998  0.520566 -0.091976   \n",
       "2762 -0.325729 -1.658188  0.225630 -0.212781 -1.277716  0.511709  0.112317   \n",
       "2763 -2.700540  0.366017 -1.473017 -1.017079 -2.433897  0.105329  1.226317   \n",
       "\n",
       "             7         8         9  \n",
       "0     1.275690 -0.581650 -1.075025  \n",
       "1    -0.709517  0.395140 -0.500860  \n",
       "2    -0.310054  0.183772 -0.500860  \n",
       "3    -0.980154 -0.392318 -0.500860  \n",
       "4     1.275690 -0.581650 -1.075025  \n",
       "...        ...       ...       ...  \n",
       "2759  1.100188  1.389609  1.886410  \n",
       "2760  0.503365 -0.647380  0.825203  \n",
       "2761 -1.352629  0.510548  0.133362  \n",
       "2762  0.169994  1.213418  0.821679  \n",
       "2763  1.568911  1.613020  1.839223  \n",
       "\n",
       "[2764 rows x 10 columns]"
      ]
     },
     "execution_count": 142,
     "metadata": {},
     "output_type": "execute_result"
    }
   ],
   "source": [
    "x=pd.DataFrame(trainx)\n",
    "x"
   ]
  },
  {
   "cell_type": "markdown",
   "id": "c412d553",
   "metadata": {},
   "source": [
    "changing trainx to x dataframe"
   ]
  },
  {
   "cell_type": "code",
   "execution_count": 183,
   "id": "89882acd",
   "metadata": {},
   "outputs": [],
   "source": [
    "from sklearn.preprocessing import StandardScaler\n",
    "scaler=StandardScaler()\n",
    "x=scaler.fit_transform(x)"
   ]
  },
  {
   "cell_type": "code",
   "execution_count": 184,
   "id": "266c4795",
   "metadata": {},
   "outputs": [
    {
     "data": {
      "text/html": [
       "<div>\n",
       "<style scoped>\n",
       "    .dataframe tbody tr th:only-of-type {\n",
       "        vertical-align: middle;\n",
       "    }\n",
       "\n",
       "    .dataframe tbody tr th {\n",
       "        vertical-align: top;\n",
       "    }\n",
       "\n",
       "    .dataframe thead th {\n",
       "        text-align: right;\n",
       "    }\n",
       "</style>\n",
       "<table border=\"1\" class=\"dataframe\">\n",
       "  <thead>\n",
       "    <tr style=\"text-align: right;\">\n",
       "      <th></th>\n",
       "      <th>0</th>\n",
       "      <th>1</th>\n",
       "      <th>2</th>\n",
       "      <th>3</th>\n",
       "      <th>4</th>\n",
       "      <th>5</th>\n",
       "      <th>6</th>\n",
       "      <th>7</th>\n",
       "      <th>8</th>\n",
       "      <th>9</th>\n",
       "    </tr>\n",
       "  </thead>\n",
       "  <tbody>\n",
       "    <tr>\n",
       "      <th>0</th>\n",
       "      <td>-0.537684</td>\n",
       "      <td>1.296896</td>\n",
       "      <td>-1.718113</td>\n",
       "      <td>-0.689745</td>\n",
       "      <td>-0.014055</td>\n",
       "      <td>-0.167316</td>\n",
       "      <td>0.079892</td>\n",
       "      <td>1.383480</td>\n",
       "      <td>-0.916428</td>\n",
       "      <td>-1.503891</td>\n",
       "    </tr>\n",
       "    <tr>\n",
       "      <th>1</th>\n",
       "      <td>-0.269715</td>\n",
       "      <td>2.072106</td>\n",
       "      <td>-1.718113</td>\n",
       "      <td>0.493561</td>\n",
       "      <td>0.923575</td>\n",
       "      <td>1.127339</td>\n",
       "      <td>1.077846</td>\n",
       "      <td>-0.675723</td>\n",
       "      <td>0.125707</td>\n",
       "      <td>-0.925848</td>\n",
       "    </tr>\n",
       "    <tr>\n",
       "      <th>2</th>\n",
       "      <td>-0.269715</td>\n",
       "      <td>1.570962</td>\n",
       "      <td>-1.446812</td>\n",
       "      <td>0.079000</td>\n",
       "      <td>0.703115</td>\n",
       "      <td>0.306160</td>\n",
       "      <td>0.757316</td>\n",
       "      <td>-0.261370</td>\n",
       "      <td>-0.099802</td>\n",
       "      <td>-0.925848</td>\n",
       "    </tr>\n",
       "    <tr>\n",
       "      <th>3</th>\n",
       "      <td>1.334042</td>\n",
       "      <td>-1.246901</td>\n",
       "      <td>1.164200</td>\n",
       "      <td>-0.689745</td>\n",
       "      <td>-0.066080</td>\n",
       "      <td>0.502800</td>\n",
       "      <td>0.913531</td>\n",
       "      <td>-0.956447</td>\n",
       "      <td>-0.714430</td>\n",
       "      <td>-0.925848</td>\n",
       "    </tr>\n",
       "    <tr>\n",
       "      <th>4</th>\n",
       "      <td>-0.537684</td>\n",
       "      <td>1.296896</td>\n",
       "      <td>-1.718113</td>\n",
       "      <td>-0.689745</td>\n",
       "      <td>-0.014055</td>\n",
       "      <td>-0.167316</td>\n",
       "      <td>0.079892</td>\n",
       "      <td>1.383480</td>\n",
       "      <td>-0.916428</td>\n",
       "      <td>-1.503891</td>\n",
       "    </tr>\n",
       "    <tr>\n",
       "      <th>...</th>\n",
       "      <td>...</td>\n",
       "      <td>...</td>\n",
       "      <td>...</td>\n",
       "      <td>...</td>\n",
       "      <td>...</td>\n",
       "      <td>...</td>\n",
       "      <td>...</td>\n",
       "      <td>...</td>\n",
       "      <td>...</td>\n",
       "      <td>...</td>\n",
       "    </tr>\n",
       "    <tr>\n",
       "      <th>2759</th>\n",
       "      <td>-2.641248</td>\n",
       "      <td>0.238224</td>\n",
       "      <td>-0.706130</td>\n",
       "      <td>-0.218801</td>\n",
       "      <td>-2.294618</td>\n",
       "      <td>0.407169</td>\n",
       "      <td>1.643412</td>\n",
       "      <td>1.201437</td>\n",
       "      <td>1.186703</td>\n",
       "      <td>1.477540</td>\n",
       "    </tr>\n",
       "    <tr>\n",
       "      <th>2760</th>\n",
       "      <td>-0.612693</td>\n",
       "      <td>0.728875</td>\n",
       "      <td>-1.694717</td>\n",
       "      <td>-0.493791</td>\n",
       "      <td>0.622940</td>\n",
       "      <td>-0.318367</td>\n",
       "      <td>-1.053340</td>\n",
       "      <td>0.582368</td>\n",
       "      <td>-0.986555</td>\n",
       "      <td>0.409168</td>\n",
       "    </tr>\n",
       "    <tr>\n",
       "      <th>2761</th>\n",
       "      <td>1.490547</td>\n",
       "      <td>-0.934758</td>\n",
       "      <td>0.897796</td>\n",
       "      <td>-1.429161</td>\n",
       "      <td>-0.662313</td>\n",
       "      <td>0.641767</td>\n",
       "      <td>0.112943</td>\n",
       "      <td>-1.342806</td>\n",
       "      <td>0.248836</td>\n",
       "      <td>-0.287344</td>\n",
       "    </tr>\n",
       "    <tr>\n",
       "      <th>2762</th>\n",
       "      <td>-0.426311</td>\n",
       "      <td>-1.354962</td>\n",
       "      <td>0.010281</td>\n",
       "      <td>-0.295521</td>\n",
       "      <td>-1.094142</td>\n",
       "      <td>0.632680</td>\n",
       "      <td>0.321113</td>\n",
       "      <td>0.236571</td>\n",
       "      <td>0.998725</td>\n",
       "      <td>0.405620</td>\n",
       "    </tr>\n",
       "    <tr>\n",
       "      <th>2763</th>\n",
       "      <td>-2.688111</td>\n",
       "      <td>0.667815</td>\n",
       "      <td>-1.660959</td>\n",
       "      <td>-1.120451</td>\n",
       "      <td>-2.224442</td>\n",
       "      <td>0.215751</td>\n",
       "      <td>1.456257</td>\n",
       "      <td>1.687631</td>\n",
       "      <td>1.425059</td>\n",
       "      <td>1.430035</td>\n",
       "    </tr>\n",
       "  </tbody>\n",
       "</table>\n",
       "<p>2764 rows × 10 columns</p>\n",
       "</div>"
      ],
      "text/plain": [
       "             0         1         2         3         4         5         6  \\\n",
       "0    -0.537684  1.296896 -1.718113 -0.689745 -0.014055 -0.167316  0.079892   \n",
       "1    -0.269715  2.072106 -1.718113  0.493561  0.923575  1.127339  1.077846   \n",
       "2    -0.269715  1.570962 -1.446812  0.079000  0.703115  0.306160  0.757316   \n",
       "3     1.334042 -1.246901  1.164200 -0.689745 -0.066080  0.502800  0.913531   \n",
       "4    -0.537684  1.296896 -1.718113 -0.689745 -0.014055 -0.167316  0.079892   \n",
       "...        ...       ...       ...       ...       ...       ...       ...   \n",
       "2759 -2.641248  0.238224 -0.706130 -0.218801 -2.294618  0.407169  1.643412   \n",
       "2760 -0.612693  0.728875 -1.694717 -0.493791  0.622940 -0.318367 -1.053340   \n",
       "2761  1.490547 -0.934758  0.897796 -1.429161 -0.662313  0.641767  0.112943   \n",
       "2762 -0.426311 -1.354962  0.010281 -0.295521 -1.094142  0.632680  0.321113   \n",
       "2763 -2.688111  0.667815 -1.660959 -1.120451 -2.224442  0.215751  1.456257   \n",
       "\n",
       "             7         8         9  \n",
       "0     1.383480 -0.916428 -1.503891  \n",
       "1    -0.675723  0.125707 -0.925848  \n",
       "2    -0.261370 -0.099802 -0.925848  \n",
       "3    -0.956447 -0.714430 -0.925848  \n",
       "4     1.383480 -0.916428 -1.503891  \n",
       "...        ...       ...       ...  \n",
       "2759  1.201437  1.186703  1.477540  \n",
       "2760  0.582368 -0.986555  0.409168  \n",
       "2761 -1.342806  0.248836 -0.287344  \n",
       "2762  0.236571  0.998725  0.405620  \n",
       "2763  1.687631  1.425059  1.430035  \n",
       "\n",
       "[2764 rows x 10 columns]"
      ]
     },
     "execution_count": 184,
     "metadata": {},
     "output_type": "execute_result"
    }
   ],
   "source": [
    "x=pd.DataFrame(x)\n",
    "x"
   ]
  },
  {
   "cell_type": "markdown",
   "id": "5d7fac2f",
   "metadata": {},
   "source": [
    "scaled the x dataframe."
   ]
  },
  {
   "cell_type": "code",
   "execution_count": 185,
   "id": "299e31bf",
   "metadata": {},
   "outputs": [
    {
     "data": {
      "text/html": [
       "<div>\n",
       "<style scoped>\n",
       "    .dataframe tbody tr th:only-of-type {\n",
       "        vertical-align: middle;\n",
       "    }\n",
       "\n",
       "    .dataframe tbody tr th {\n",
       "        vertical-align: top;\n",
       "    }\n",
       "\n",
       "    .dataframe thead th {\n",
       "        text-align: right;\n",
       "    }\n",
       "</style>\n",
       "<table border=\"1\" class=\"dataframe\">\n",
       "  <thead>\n",
       "    <tr style=\"text-align: right;\">\n",
       "      <th></th>\n",
       "      <th>0</th>\n",
       "    </tr>\n",
       "  </thead>\n",
       "  <tbody>\n",
       "    <tr>\n",
       "      <th>0</th>\n",
       "      <td>0</td>\n",
       "    </tr>\n",
       "    <tr>\n",
       "      <th>1</th>\n",
       "      <td>0</td>\n",
       "    </tr>\n",
       "    <tr>\n",
       "      <th>2</th>\n",
       "      <td>0</td>\n",
       "    </tr>\n",
       "    <tr>\n",
       "      <th>3</th>\n",
       "      <td>0</td>\n",
       "    </tr>\n",
       "    <tr>\n",
       "      <th>4</th>\n",
       "      <td>0</td>\n",
       "    </tr>\n",
       "    <tr>\n",
       "      <th>...</th>\n",
       "      <td>...</td>\n",
       "    </tr>\n",
       "    <tr>\n",
       "      <th>2759</th>\n",
       "      <td>1</td>\n",
       "    </tr>\n",
       "    <tr>\n",
       "      <th>2760</th>\n",
       "      <td>1</td>\n",
       "    </tr>\n",
       "    <tr>\n",
       "      <th>2761</th>\n",
       "      <td>1</td>\n",
       "    </tr>\n",
       "    <tr>\n",
       "      <th>2762</th>\n",
       "      <td>1</td>\n",
       "    </tr>\n",
       "    <tr>\n",
       "      <th>2763</th>\n",
       "      <td>1</td>\n",
       "    </tr>\n",
       "  </tbody>\n",
       "</table>\n",
       "<p>2764 rows × 1 columns</p>\n",
       "</div>"
      ],
      "text/plain": [
       "      0\n",
       "0     0\n",
       "1     0\n",
       "2     0\n",
       "3     0\n",
       "4     0\n",
       "...  ..\n",
       "2759  1\n",
       "2760  1\n",
       "2761  1\n",
       "2762  1\n",
       "2763  1\n",
       "\n",
       "[2764 rows x 1 columns]"
      ]
     },
     "execution_count": 185,
     "metadata": {},
     "output_type": "execute_result"
    }
   ],
   "source": [
    "y=pd.DataFrame(trainy)\n",
    "y"
   ]
  },
  {
   "cell_type": "markdown",
   "id": "9a945eb3",
   "metadata": {},
   "source": [
    "converted trainy into y dataframe"
   ]
  },
  {
   "cell_type": "code",
   "execution_count": 186,
   "id": "fa2bf3ce",
   "metadata": {},
   "outputs": [],
   "source": [
    "from sklearn.model_selection import train_test_split\n",
    "from sklearn.svm import SVC\n",
    "from sklearn.ensemble import RandomForestClassifier\n",
    "from sklearn.tree import DecisionTreeClassifier\n",
    "from sklearn.neighbors import KNeighborsClassifier\n",
    "from sklearn.metrics import accuracy_score,confusion_matrix,classification_report"
   ]
  },
  {
   "cell_type": "code",
   "execution_count": 187,
   "id": "82617bd7",
   "metadata": {},
   "outputs": [
    {
     "name": "stdout",
     "output_type": "stream",
     "text": [
      "best accuracy is 0.9266155531215772 on random state 196\n"
     ]
    }
   ],
   "source": [
    "maxAccu=0\n",
    "maxRS=0\n",
    "for i in range(1,200):\n",
    "    x_train,x_test,y_train,y_test=train_test_split(x,y,test_size=0.33,random_state=i)\n",
    "    lm=DecisionTreeClassifier()\n",
    "    lm.fit(x_train,y_train)\n",
    "    pred=lm.predict(x_test)\n",
    "    accu=accuracy_score(y_test,pred)\n",
    "    if accu>maxAccu:\n",
    "        maxAccu=accu\n",
    "        maxRS=i\n",
    "print(\"best accuracy is\",maxAccu,\"on random state\",maxRS)"
   ]
  },
  {
   "cell_type": "code",
   "execution_count": 188,
   "id": "f7b9c1d9",
   "metadata": {},
   "outputs": [],
   "source": [
    "x_train,x_test,y_train,y_test=train_test_split(x,y,test_size=0.33,random_state=196)"
   ]
  },
  {
   "cell_type": "markdown",
   "id": "0b4ba47e",
   "metadata": {},
   "source": [
    "doing train test split with best random score achieved."
   ]
  },
  {
   "cell_type": "code",
   "execution_count": 189,
   "id": "7ebe14bb",
   "metadata": {},
   "outputs": [
    {
     "name": "stdout",
     "output_type": "stream",
     "text": [
      "accuracy score of DecisionTreeClassifier() is:\n",
      "0.91894852135816\n",
      "[[412  47]\n",
      " [ 27 427]]\n",
      "              precision    recall  f1-score   support\n",
      "\n",
      "           0       0.94      0.90      0.92       459\n",
      "           1       0.90      0.94      0.92       454\n",
      "\n",
      "    accuracy                           0.92       913\n",
      "   macro avg       0.92      0.92      0.92       913\n",
      "weighted avg       0.92      0.92      0.92       913\n",
      "\n",
      "\n",
      "\n",
      "accuracy score of SVC() is:\n",
      "0.8926615553121577\n",
      "[[381  78]\n",
      " [ 20 434]]\n",
      "              precision    recall  f1-score   support\n",
      "\n",
      "           0       0.95      0.83      0.89       459\n",
      "           1       0.85      0.96      0.90       454\n",
      "\n",
      "    accuracy                           0.89       913\n",
      "   macro avg       0.90      0.89      0.89       913\n",
      "weighted avg       0.90      0.89      0.89       913\n",
      "\n",
      "\n",
      "\n",
      "accuracy score of KNeighborsClassifier() is:\n",
      "0.8817086527929902\n",
      "[[353 106]\n",
      " [  2 452]]\n",
      "              precision    recall  f1-score   support\n",
      "\n",
      "           0       0.99      0.77      0.87       459\n",
      "           1       0.81      1.00      0.89       454\n",
      "\n",
      "    accuracy                           0.88       913\n",
      "   macro avg       0.90      0.88      0.88       913\n",
      "weighted avg       0.90      0.88      0.88       913\n",
      "\n",
      "\n",
      "\n",
      "accuracy score of RandomForestClassifier() is:\n",
      "0.9485213581599123\n",
      "[[422  37]\n",
      " [ 10 444]]\n",
      "              precision    recall  f1-score   support\n",
      "\n",
      "           0       0.98      0.92      0.95       459\n",
      "           1       0.92      0.98      0.95       454\n",
      "\n",
      "    accuracy                           0.95       913\n",
      "   macro avg       0.95      0.95      0.95       913\n",
      "weighted avg       0.95      0.95      0.95       913\n",
      "\n",
      "\n",
      "\n"
     ]
    }
   ],
   "source": [
    "model=[DecisionTreeClassifier(),SVC(),KNeighborsClassifier(),RandomForestClassifier()]\n",
    "for a in model:\n",
    "    a.fit(x_train,y_train)\n",
    "    a.score(x_train,y_train)\n",
    "    predm=a.predict(x_test)\n",
    "    print('accuracy score of' ,a, 'is:')\n",
    "    print(accuracy_score(y_test,predm))\n",
    "    print(confusion_matrix(y_test,predm))\n",
    "    print(classification_report(y_test,predm))\n",
    "    print('\\n')"
   ]
  },
  {
   "cell_type": "markdown",
   "id": "2f8faba2",
   "metadata": {},
   "source": [
    "above we get the accuracy scores of following models, in which best is random forest with 94.85 and worst is kneighbors, now we will check for overfitting."
   ]
  },
  {
   "cell_type": "code",
   "execution_count": 190,
   "id": "b97661cc",
   "metadata": {},
   "outputs": [
    {
     "name": "stdout",
     "output_type": "stream",
     "text": [
      "the cross val score of DecisionTreeClassifier() is:  0.8798890111906074\n",
      "the cross val score of SVC() is:  0.8617960007338101\n",
      "the cross val score of KNeighborsClassifier() is:  0.8585279241030479\n",
      "the cross val score of RandomForestClassifier() is:  0.9247497182692561\n"
     ]
    }
   ],
   "source": [
    "from sklearn.model_selection import cross_val_score\n",
    "for a in model:\n",
    "    c=cross_val_score(a,x,y,cv=5).mean()\n",
    "    print(\"the cross val score of\",a,\"is: \",c)"
   ]
  },
  {
   "cell_type": "markdown",
   "id": "cd88efc7",
   "metadata": {},
   "source": [
    "after seeing the cross val score the least difference in the accuracy score and cross val score is Kneighbors mode, hence it is our best chosen model."
   ]
  },
  {
   "cell_type": "code",
   "execution_count": 197,
   "id": "5a40a91d",
   "metadata": {},
   "outputs": [],
   "source": [
    "from sklearn.model_selection import GridSearchCV\n",
    "import numpy as np"
   ]
  },
  {
   "cell_type": "code",
   "execution_count": 204,
   "id": "b1fa7c00",
   "metadata": {},
   "outputs": [],
   "source": [
    "parameter={'algorithm':['auto','ball_tree','kd_tree','brute'],\n",
    "         'weights':['uniform','distance'],\n",
    "          'n_neighbors':np.arange(0,10),\n",
    "          'p':np.arange(0,10)}"
   ]
  },
  {
   "cell_type": "markdown",
   "id": "8c7cb140",
   "metadata": {},
   "source": [
    "4 parameters for kneighbors"
   ]
  },
  {
   "cell_type": "code",
   "execution_count": 205,
   "id": "244ff12c",
   "metadata": {},
   "outputs": [],
   "source": [
    "GCV=GridSearchCV(KNeighborsClassifier(),parameter,cv=5)"
   ]
  },
  {
   "cell_type": "code",
   "execution_count": 206,
   "id": "c279ece1",
   "metadata": {},
   "outputs": [
    {
     "data": {
      "text/plain": [
       "GridSearchCV(cv=5, estimator=KNeighborsClassifier(),\n",
       "             param_grid={'algorithm': ['auto', 'ball_tree', 'kd_tree', 'brute'],\n",
       "                         'n_neighbors': array([0, 1, 2, 3, 4, 5, 6, 7, 8, 9]),\n",
       "                         'p': array([0, 1, 2, 3, 4, 5, 6, 7, 8, 9]),\n",
       "                         'weights': ['uniform', 'distance']})"
      ]
     },
     "execution_count": 206,
     "metadata": {},
     "output_type": "execute_result"
    }
   ],
   "source": [
    "GCV.fit(x_train,y_train)"
   ]
  },
  {
   "cell_type": "code",
   "execution_count": 207,
   "id": "b8584a28",
   "metadata": {},
   "outputs": [
    {
     "data": {
      "text/plain": [
       "{'algorithm': 'auto', 'n_neighbors': 1, 'p': 1, 'weights': 'uniform'}"
      ]
     },
     "execution_count": 207,
     "metadata": {},
     "output_type": "execute_result"
    }
   ],
   "source": [
    "GCV.best_params_"
   ]
  },
  {
   "cell_type": "code",
   "execution_count": 209,
   "id": "11906889",
   "metadata": {},
   "outputs": [
    {
     "name": "stdout",
     "output_type": "stream",
     "text": [
      "93.75684556407448\n"
     ]
    }
   ],
   "source": [
    "\n",
    "wine_mod=KNeighborsClassifier(p=1,n_neighbors=1,algorithm='auto',weights='uniform')\n",
    "wine_mod.fit(x_train,y_train)\n",
    "pred=wine_mod.predict(x_test)\n",
    "acc=accuracy_score(y_test,pred)\n",
    "print(acc*100)"
   ]
  },
  {
   "cell_type": "markdown",
   "id": "c25057ae",
   "metadata": {},
   "source": [
    "after hyperparameter tuning best accuracy is 93.75%."
   ]
  },
  {
   "cell_type": "code",
   "execution_count": 210,
   "id": "45203ab3",
   "metadata": {},
   "outputs": [],
   "source": [
    "from sklearn.metrics import roc_curve\n",
    "import matplotlib.pyplot as plt\n",
    "from sklearn.metrics import roc_auc_score\n"
   ]
  },
  {
   "cell_type": "code",
   "execution_count": 211,
   "id": "ce032efa",
   "metadata": {},
   "outputs": [],
   "source": [
    "y_pred_prob=wine_mod.predict_proba(x_test)[:,1]"
   ]
  },
  {
   "cell_type": "code",
   "execution_count": 212,
   "id": "0bba8e0a",
   "metadata": {},
   "outputs": [],
   "source": [
    "fpr,tpr,thresholds=roc_curve(y_test,y_pred_prob)"
   ]
  },
  {
   "cell_type": "code",
   "execution_count": 213,
   "id": "1da2d2ed",
   "metadata": {},
   "outputs": [
    {
     "data": {
      "image/png": "[encoded data removed]",
      "text/plain": [
       "<Figure size 432x288 with 1 Axes>"
      ]
     },
     "metadata": {
      "needs_background": "light"
     },
     "output_type": "display_data"
    }
   ],
   "source": [
    "plt.plot([0,1],[0,1],'k--')\n",
    "plt.plot(fpr,tpr,label='SVC')\n",
    "plt.xlabel('False positive rate')\n",
    "plt.ylabel('true positive rate')\n",
    "plt.show()\n"
   ]
  },
  {
   "cell_type": "markdown",
   "id": "259fc94c",
   "metadata": {},
   "source": [
    "the peak is little far from 1 hence our score will be less than 1, pictorial representation of confusion matrix."
   ]
  },
  {
   "cell_type": "code",
   "execution_count": 214,
   "id": "d3784fcd",
   "metadata": {},
   "outputs": [],
   "source": [
    "auc_score=roc_auc_score(y_test,wine_mod.predict(x_test))"
   ]
  },
  {
   "cell_type": "code",
   "execution_count": 215,
   "id": "246ab4da",
   "metadata": {},
   "outputs": [
    {
     "name": "stdout",
     "output_type": "stream",
     "text": [
      "0.9379084967320261\n"
     ]
    }
   ],
   "source": [
    "print(auc_score)"
   ]
  },
  {
   "cell_type": "markdown",
   "id": "3893b065",
   "metadata": {},
   "source": [
    "auc score is almost similar to our model accuracy."
   ]
  },
  {
   "cell_type": "code",
   "execution_count": 216,
   "id": "db399899",
   "metadata": {},
   "outputs": [
    {
     "data": {
      "text/plain": [
       "['winequalitymodel.pkl']"
      ]
     },
     "execution_count": 216,
     "metadata": {},
     "output_type": "execute_result"
    }
   ],
   "source": [
    "import joblib\n",
    "joblib.dump(wine_mod,\"winequalitymodel.pkl\")"
   ]
  },
  {
   "cell_type": "markdown",
   "id": "5f264715",
   "metadata": {},
   "source": [
    "saved the best model in pkl file."
   ]
  }
 ],
 "metadata": {
  "colab": {
   "name": "1633431045-wine-quality.ipynb",
   "provenance": []
  },
  "kernelspec": {
   "display_name": "Python 3",
   "language": "python",
   "name": "python3"
  },
  "language_info": {
   "codemirror_mode": {
    "name": "ipython",
    "version": 3
   },
   "file_extension": ".py",
   "mimetype": "text/x-python",
   "name": "python",
   "nbconvert_exporter": "python",
   "pygments_lexer": "ipython3",
   "version": "3.8.8"
  }
 },
 "nbformat": 4,
 "nbformat_minor": 5
}
